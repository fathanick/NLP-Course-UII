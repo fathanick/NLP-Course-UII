{
 "cells": [
  {
   "cell_type": "code",
   "execution_count": null,
   "metadata": {},
   "outputs": [],
   "source": [
    "pip install tweepy"
   ]
  },
  {
   "cell_type": "code",
   "execution_count": 1,
   "metadata": {},
   "outputs": [],
   "source": [
    "import tweepy as tw\n",
    "import pandas as pd"
   ]
  },
  {
   "cell_type": "code",
   "execution_count": 4,
   "metadata": {},
   "outputs": [],
   "source": [
    "def search_twitter(term):\n",
    "    consumer_key = \" \"\n",
    "    consumer_secret = \" \"\n",
    "    access_token = \" \"\n",
    "    access_token_secret = \" \"\n",
    "    \n",
    "    auth = tw.OAuthHandler(consumer_key, consumer_secret)\n",
    "    auth.set_access_token(access_token, access_token_secret)\n",
    "    api = tw.API(auth, wait_on_rate_limit=True)\n",
    "\n",
    "    tweets = tw.Cursor(api.search,\n",
    "                       q=term,\n",
    "                       lang=\"id\").items(5)\n",
    "    \n",
    "    tw_data = [tweet.text for tweet in tweets]\n",
    "    \n",
    "    return tw_data"
   ]
  },
  {
   "cell_type": "code",
   "execution_count": null,
   "metadata": {},
   "outputs": [],
   "source": [
    "search_words = \"kepriwe\"\n",
    "new_search = search_words + \" filter:retweets\"\n",
    "\n",
    "result = search_twitter(new_search)\n",
    "df = pd.DataFrame(data =result,columns=[\"Tweet\"])\n",
    "df"
   ]
  },
  {
   "cell_type": "code",
   "execution_count": null,
   "metadata": {},
   "outputs": [],
   "source": [
    "df.drop_duplicates(subset=\"Tweet\")"
   ]
  },
  {
   "cell_type": "code",
   "execution_count": 5,
   "metadata": {},
   "outputs": [
    {
     "output_type": "stream",
     "name": "stdout",
     "text": "Tweet\n0  Rek~ Indihome opo o e? Kok ndek timeline ku po...\n1  Sek gak paham ambe wong yg bagi\" rejeki lapo k...\n2  WOCOEN !!\\n\\nRek njalok tolong stopen corona i...\n3        Info dong. Megengan enake nggae opo yo rek?\n4  Yuks segera rawat mobil rek ben puenak di tump...\n5  Rek~ Indihome opo o e? Kok ndek timeline ku po...\n6  Sek gak paham ambe wong yg bagi\" rejeki lapo k...\n7  WOCOEN !!\\n\\nRek njalok tolong stopen corona i...\n8        Info dong. Megengan enake nggae opo yo rek?\n9  Yuks segera rawat mobil rek ben puenak di tump...\n"
    }
   ],
   "source": [
    "word_lists = ['piye cuk','yo opo rek']\n",
    "\n",
    "for w in word_lists:\n",
    "    result = search_twitter(w)\n",
    "    df = pd.DataFrame(data =result,columns=[\"Tweet\"])\n",
    "    \n",
    "all_df = df.append(df, ignore_index = True)\n",
    "print(all_df)"
   ]
  },
  {
   "cell_type": "code",
   "execution_count": 6,
   "metadata": {},
   "outputs": [],
   "source": [
    "all_df.to_excel(\"tweet_raw.xlsx\")"
   ]
  }
 ],
 "metadata": {
  "language_info": {
   "codemirror_mode": {
    "name": "ipython",
    "version": 3
   },
   "file_extension": ".py",
   "mimetype": "text/x-python",
   "name": "python",
   "nbconvert_exporter": "python",
   "pygments_lexer": "ipython3",
   "version": "3.7.4-final"
  },
  "orig_nbformat": 2,
  "kernelspec": {
   "name": "python37464bitanaconda3virtualenvfc801a8c42d14f0d884d7f22cd4e486a",
   "display_name": "Python 3.7.4 64-bit ('anaconda3': virtualenv)"
  }
 },
 "nbformat": 4,
 "nbformat_minor": 2
}