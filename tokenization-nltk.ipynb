{
 "nbformat": 4,
 "nbformat_minor": 2,
 "metadata": {
  "language_info": {
   "name": "python",
   "codemirror_mode": {
    "name": "ipython",
    "version": 3
   },
   "version": "3.7.4-final"
  },
  "orig_nbformat": 2,
  "file_extension": ".py",
  "mimetype": "text/x-python",
  "name": "python",
  "npconvert_exporter": "python",
  "pygments_lexer": "ipython3",
  "version": 3,
  "kernelspec": {
   "name": "python37464bitanaconda3virtualenvfc801a8c42d14f0d884d7f22cd4e486a",
   "display_name": "Python 3.7.4 64-bit ('anaconda3': virtualenv)"
  }
 },
 "cells": [
  {
   "cell_type": "code",
   "execution_count": 21,
   "metadata": {},
   "outputs": [],
   "source": [
    "from nltk.tokenize import word_tokenize, sent_tokenize"
   ]
  },
  {
   "cell_type": "code",
   "execution_count": 22,
   "metadata": {},
   "outputs": [
    {
     "output_type": "stream",
     "name": "stdout",
     "text": "Ledakan bintang raksasa alias supernova yang dikenal dengan nama SN2016aps dicatat sebagai supernova paling cerah yang pernah diamati astronom. Supernova ini terjadi di galaksi yang berjarak 3,6 miliar tahun cahaya dari Bumi.\nPenemuan ini diungkap oleh astronom dari Center for Astrophysics yang dimuat dalam jurnal Nature. Saking cerahnya, supernova ini bahkan mengalahkan galaksinya sendiri.\n\"Di supernova pada umumnya, radiasinya kurang dari 1% dari energi total,\" kata penulis utama studi ini, Matt Nicholl dari University of Birmingham dalam keterangannya yang dikutip detikINET dari Space, Rabu (15/4/2020).\n\n"
    }
   ],
   "source": [
    "#load data sample\n",
    "\n",
    "f = open(\"sample-data/sample-text.txt\",\"r+\")\n",
    "text = f.read()\n",
    "print(text)"
   ]
  },
  {
   "cell_type": "code",
   "execution_count": 23,
   "metadata": {},
   "outputs": [
    {
     "output_type": "stream",
     "name": "stdout",
     "text": "['Ledakan', 'bintang', 'raksasa', 'alias', 'supernova', 'yang', 'dikenal', 'dengan', 'nama', 'SN2016aps', 'dicatat', 'sebagai', 'supernova', 'paling', 'cerah', 'yang', 'pernah', 'diamati', 'astronom', '.', 'Supernova', 'ini', 'terjadi', 'di', 'galaksi', 'yang', 'berjarak', '3,6', 'miliar', 'tahun', 'cahaya', 'dari', 'Bumi', '.', 'Penemuan', 'ini', 'diungkap', 'oleh', 'astronom', 'dari', 'Center', 'for', 'Astrophysics', 'yang', 'dimuat', 'dalam', 'jurnal', 'Nature', '.', 'Saking', 'cerahnya', ',', 'supernova', 'ini', 'bahkan', 'mengalahkan', 'galaksinya', 'sendiri', '.', '``', 'Di', 'supernova', 'pada', 'umumnya', ',', 'radiasinya', 'kurang', 'dari', '1', '%', 'dari', 'energi', 'total', ',', \"''\", 'kata', 'penulis', 'utama', 'studi', 'ini', ',', 'Matt', 'Nicholl', 'dari', 'University', 'of', 'Birmingham', 'dalam', 'keterangannya', 'yang', 'dikutip', 'detikINET', 'dari', 'Space', ',', 'Rabu', '(', '15/4/2020', ')', '.']\n"
    }
   ],
   "source": [
    "#word tokenization\n",
    "\n",
    "word_token = word_tokenize(text)\n",
    "print(word_token)"
   ]
  },
  {
   "cell_type": "code",
   "execution_count": 24,
   "metadata": {},
   "outputs": [
    {
     "output_type": "stream",
     "name": "stdout",
     "text": "['Ledakan bintang raksasa alias supernova yang dikenal dengan nama SN2016aps dicatat sebagai supernova paling cerah yang pernah diamati astronom.', 'Supernova ini terjadi di galaksi yang berjarak 3,6 miliar tahun cahaya dari Bumi.', 'Penemuan ini diungkap oleh astronom dari Center for Astrophysics yang dimuat dalam jurnal Nature.', 'Saking cerahnya, supernova ini bahkan mengalahkan galaksinya sendiri.', '\"Di supernova pada umumnya, radiasinya kurang dari 1% dari energi total,\" kata penulis utama studi ini, Matt Nicholl dari University of Birmingham dalam keterangannya yang dikutip detikINET dari Space, Rabu (15/4/2020).']\n"
    }
   ],
   "source": [
    "#sentence tokenization\n",
    "\n",
    "sentence_token = sent_tokenize(text)\n",
    "print(sentence_token)"
   ]
  },
  {
   "cell_type": "code",
   "execution_count": null,
   "metadata": {},
   "outputs": [],
   "source": []
  }
 ]
}