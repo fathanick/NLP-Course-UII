{
 "cells": [
  {
   "cell_type": "code",
   "execution_count": 1,
   "metadata": {},
   "outputs": [
    {
     "output_type": "stream",
     "name": "stdout",
     "text": "Requirement already satisfied: newspaper3k in /Users/bsi-00/opt/anaconda3/lib/python3.7/site-packages (0.2.8)\nRequirement already satisfied: tinysegmenter==0.3 in /Users/bsi-00/opt/anaconda3/lib/python3.7/site-packages (from newspaper3k) (0.3)\nRequirement already satisfied: feedparser>=5.2.1 in /Users/bsi-00/opt/anaconda3/lib/python3.7/site-packages (from newspaper3k) (5.2.1)\nRequirement already satisfied: tldextract>=2.0.1 in /Users/bsi-00/opt/anaconda3/lib/python3.7/site-packages (from newspaper3k) (2.2.2)\nRequirement already satisfied: lxml>=3.6.0 in /Users/bsi-00/opt/anaconda3/lib/python3.7/site-packages (from newspaper3k) (4.4.1)\nRequirement already satisfied: requests>=2.10.0 in /Users/bsi-00/opt/anaconda3/lib/python3.7/site-packages (from newspaper3k) (2.22.0)\nRequirement already satisfied: feedfinder2>=0.0.4 in /Users/bsi-00/opt/anaconda3/lib/python3.7/site-packages (from newspaper3k) (0.0.4)\nRequirement already satisfied: jieba3k>=0.35.1 in /Users/bsi-00/opt/anaconda3/lib/python3.7/site-packages (from newspaper3k) (0.35.1)\nRequirement already satisfied: Pillow>=3.3.0 in /Users/bsi-00/opt/anaconda3/lib/python3.7/site-packages (from newspaper3k) (6.2.0)\nRequirement already satisfied: python-dateutil>=2.5.3 in /Users/bsi-00/opt/anaconda3/lib/python3.7/site-packages (from newspaper3k) (2.8.0)\nRequirement already satisfied: nltk>=3.2.1 in /Users/bsi-00/opt/anaconda3/lib/python3.7/site-packages (from newspaper3k) (3.4.5)\nRequirement already satisfied: PyYAML>=3.11 in /Users/bsi-00/opt/anaconda3/lib/python3.7/site-packages (from newspaper3k) (5.1.2)\nRequirement already satisfied: cssselect>=0.9.2 in /Users/bsi-00/opt/anaconda3/lib/python3.7/site-packages (from newspaper3k) (1.1.0)\nRequirement already satisfied: beautifulsoup4>=4.4.1 in /Users/bsi-00/opt/anaconda3/lib/python3.7/site-packages (from newspaper3k) (4.8.0)\nRequirement already satisfied: setuptools in /Users/bsi-00/opt/anaconda3/lib/python3.7/site-packages (from tldextract>=2.0.1->newspaper3k) (41.4.0)\nRequirement already satisfied: requests-file>=1.4 in /Users/bsi-00/opt/anaconda3/lib/python3.7/site-packages (from tldextract>=2.0.1->newspaper3k) (1.5.1)\nRequirement already satisfied: idna in /Users/bsi-00/opt/anaconda3/lib/python3.7/site-packages (from tldextract>=2.0.1->newspaper3k) (2.8)\nRequirement already satisfied: chardet<3.1.0,>=3.0.2 in /Users/bsi-00/opt/anaconda3/lib/python3.7/site-packages (from requests>=2.10.0->newspaper3k) (3.0.4)\nRequirement already satisfied: certifi>=2017.4.17 in /Users/bsi-00/opt/anaconda3/lib/python3.7/site-packages (from requests>=2.10.0->newspaper3k) (2019.9.11)\nRequirement already satisfied: urllib3!=1.25.0,!=1.25.1,<1.26,>=1.21.1 in /Users/bsi-00/opt/anaconda3/lib/python3.7/site-packages (from requests>=2.10.0->newspaper3k) (1.24.2)\nRequirement already satisfied: six in /Users/bsi-00/opt/anaconda3/lib/python3.7/site-packages (from feedfinder2>=0.0.4->newspaper3k) (1.12.0)\nRequirement already satisfied: soupsieve>=1.2 in /Users/bsi-00/opt/anaconda3/lib/python3.7/site-packages (from beautifulsoup4>=4.4.1->newspaper3k) (1.9.3)\n\u001b[33mWARNING: You are using pip version 20.0.2; however, version 20.1 is available.\nYou should consider upgrading via the '/Users/bsi-00/opt/anaconda3/bin/python -m pip install --upgrade pip' command.\u001b[0m\nNote: you may need to restart the kernel to use updated packages.\n"
    }
   ],
   "source": [
    "pip install newspaper3k"
   ]
  },
  {
   "cell_type": "code",
   "execution_count": 4,
   "metadata": {},
   "outputs": [],
   "source": [
    "import newspaper\n",
    "from newspaper import Article"
   ]
  },
  {
   "cell_type": "code",
   "execution_count": 28,
   "metadata": {},
   "outputs": [],
   "source": [
    "url = \"https://www.tribunnews.com/bisnis/2020/05/15/deretan-finalis-terpilih-grab-ventures-velocity-angkatan-tiga\""
   ]
  },
  {
   "cell_type": "code",
   "execution_count": 29,
   "metadata": {},
   "outputs": [],
   "source": [
    "article = Article(url)"
   ]
  },
  {
   "cell_type": "code",
   "execution_count": 48,
   "metadata": {},
   "outputs": [
    {
     "output_type": "stream",
     "name": "stdout",
     "text": "TRIBUNNEWS.COM - Grab Ventures Velocity (GVV) merupakan program yang telah ada sejak 2018 lalu dengan tujuan untuk memberikan dukungan kepada startup Tanah Air dalam menjalankan dan mengembangkan bisnisnya. Pada kesempatan kali ini, Grab kembali mengumumkan deretan finalis GVV angkatan 3.\n\n“GVV merupakan program sebagai upaya kami untuk membentuk dan membimbing potensi-potensi startup Tanah Air,” kata Managing Director of Grab Indonesia, Neneng Goenadi saat teleconference yang diadakan, Jumat (15/5/2020) siang.\n\nIa juga menjelaskan GVV angkatan 3 kali ini sejalan dengan program pemerintah untuk mendukung dan mendorong pelaku UMKM agar masuk ke dalam sistem digital.\n\nSelain sejalan dengan program pemerintah, Neneng berharap finalis yang terpilih pada GVV angkatan 3 dapat memberikan dampak yang positif terhadap pertumbuhan UKM di Indonesia.\n\n“Kami berharap startup ini dapat memberikan dampak positif terhadap UKM. Kami juga percaya teknologi dapat memberikan dampak yang sangat besar di sektor UKM,” jelas Neneng.\n\nIa menambahkan, setelah melalui proses yang panjang akhirnya pada hari ini, 15 Mei 2020, terpilih 5 finalis Grab Ventures Velocity Angkatan 3:\n\nLuna POS\n\nStartup yang didirikan di Indonesia ini bergerak dalam bidang penyediaan solusi kasir, manajemen inventaris, dan accounting berbasis cloud untuk UKM di Indonesia.\n\nSelaku Co-founder and CTO of Luna POS, Reynaldi Oeoen, mengatakan, startup yang dirintisnya dapat menjadi solusi untuk membantu administrasi UKM. Ia menilai dengan bantuan tersebut, UKM akan menjadi lebih mudah untuk fokus pada inti bisnis yang sedang dikembangkan.\n\nPrinterous\n"
    }
   ],
   "source": [
    "#donwload article and view the text\n",
    "\n",
    "article.download()\n",
    "article.parse()\n",
    "txt = article.text\n",
    "print(txt)"
   ]
  },
  {
   "cell_type": "code",
   "execution_count": 53,
   "metadata": {},
   "outputs": [],
   "source": [
    "f = open('article.txt','w')\n",
    "f.write(txt)\n",
    "f.close()"
   ]
  }
 ],
 "metadata": {
  "language_info": {
   "codemirror_mode": {
    "name": "ipython",
    "version": 3
   },
   "file_extension": ".py",
   "mimetype": "text/x-python",
   "name": "python",
   "nbconvert_exporter": "python",
   "pygments_lexer": "ipython3",
   "version": "3.7.4-final"
  },
  "orig_nbformat": 2,
  "kernelspec": {
   "name": "python37464bitanaconda3virtualenvfc801a8c42d14f0d884d7f22cd4e486a",
   "display_name": "Python 3.7.4 64-bit ('anaconda3': virtualenv)"
  }
 },
 "nbformat": 4,
 "nbformat_minor": 2
}