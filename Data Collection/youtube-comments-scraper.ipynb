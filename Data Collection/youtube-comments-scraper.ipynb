{
 "cells": [
  {
   "cell_type": "code",
   "execution_count": 5,
   "metadata": {},
   "outputs": [],
   "source": [
    "import time\n",
    "import pandas as pd\n",
    "from selenium.webdriver import Chrome\n",
    "from selenium.webdriver.common.by import By\n",
    "from selenium.webdriver.common.keys import Keys\n",
    "from selenium.webdriver.support.ui import WebDriverWait\n",
    "from selenium.webdriver.support import expected_conditions as EC"
   ]
  },
  {
   "cell_type": "code",
   "execution_count": 8,
   "metadata": {},
   "outputs": [],
   "source": [
    "comment_list = []\n",
    "with Chrome() as driver:\n",
    "    wait = WebDriverWait(driver,10)\n",
    "    driver.get(\"https://www.youtube.com/watch?v=Z1Yd7upQsXY&list=PLBZBJbE_rGRWeh5mIBhD-hhDwSEDxogDg\")\n",
    "\n",
    "    for item in range(3): #by increasing the highest range you can get more content\n",
    "        wait.until(EC.visibility_of_element_located((By.TAG_NAME, \"body\"))).send_keys(Keys.END)\n",
    "        time.sleep(3)\n",
    "\n",
    "    for comment in wait.until(EC.presence_of_all_elements_located((By.CSS_SELECTOR, \"#comment #content-text\"))):\n",
    "        #print(comment.text)\n",
    "        comment_list.append(comment.text)"
   ]
  },
  {
   "cell_type": "code",
   "execution_count": null,
   "metadata": {},
   "outputs": [],
   "source": [
    "#Reference:https://selenium-python.readthedocs.io/waits.html"
   ]
  },
  {
   "cell_type": "code",
   "execution_count": 9,
   "metadata": {},
   "outputs": [
    {
     "output_type": "stream",
     "name": "stdout",
     "text": "Comments\n0   Below is an outline of this video.\\n\\nAlso, a ...\n1   Shout out to every one learning programming du...\n2   Coronavirus outbreak starts:\\n\\nPeople: lets l...\n3       raise ur hand if u watchin' during quarantine\n4   me: print(\"hello world\")\\n       mom I am a pr...\n5   I may be a bit late into the \"Let's learn prog...\n6   Who is trying to find something to do during t...\n7   i'm regretting the time i spent searching for ...\n8   me two years ago watching dis: AHAHAHA I CAN H...\n9   I have never done programming before but with ...\n10  In his favorites he has Why I left google to b...\n11               First Program: print (“Hello World”)\n12  That makes so much sense. .. I tried other tut...\n13  wait, i just did: \\n\\nv1 = \"first string\"\\nv2 ...\n14  me: *downloads anaconda*\\nalso me: *gets a she...\n15  I was stupid enough to try do this on a chrome...\n16  Experienced coders setting up their cameras to...\n17  After two semesters of C++ about 15 years ago,...\n18  Hi;\\nThe way you are teaching it, you are maki...\n19  Me: Tries to learn new hobby.\\nYoutube targete...\n"
    }
   ],
   "source": [
    "comments = comment_list\n",
    "df = pd.DataFrame(data = comments, columns =['Comments'])\n",
    "print(df)"
   ]
  },
  {
   "cell_type": "code",
   "execution_count": 10,
   "metadata": {},
   "outputs": [],
   "source": [
    "df.to_excel(\"Youtube_comments.xlsx\")"
   ]
  }
 ],
 "metadata": {
  "language_info": {
   "codemirror_mode": {
    "name": "ipython",
    "version": 3
   },
   "file_extension": ".py",
   "mimetype": "text/x-python",
   "name": "python",
   "nbconvert_exporter": "python",
   "pygments_lexer": "ipython3",
   "version": "3.7.4-final"
  },
  "orig_nbformat": 2,
  "kernelspec": {
   "name": "python37464bitanaconda3virtualenvfc801a8c42d14f0d884d7f22cd4e486a",
   "display_name": "Python 3.7.4 64-bit ('anaconda3': virtualenv)"
  }
 },
 "nbformat": 4,
 "nbformat_minor": 2
}