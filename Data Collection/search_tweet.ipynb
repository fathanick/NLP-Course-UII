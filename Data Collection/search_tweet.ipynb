{
 "cells": [
  {
   "cell_type": "code",
   "execution_count": null,
   "metadata": {},
   "outputs": [],
   "source": [
    "pip install tweepy"
   ]
  },
  {
   "cell_type": "code",
   "execution_count": null,
   "metadata": {},
   "outputs": [],
   "source": [
    "import tweepy as tw\n",
    "import pandas as pd"
   ]
  },
  {
   "cell_type": "code",
   "execution_count": null,
   "metadata": {},
   "outputs": [],
   "source": [
    "def search_twitter(term):\n",
    "    consumer_key = \"I0E7xGaPsVIIyg0sq8tfw\"\n",
    "    consumer_secret = \"frk7rjhTVHEuRErf4V2h93xZ6eSAr2myy9gH4RaU\"\n",
    "    access_token = \"228245421-FPyC4SFufgkHDmHy7gTpEqm36mbFepYmkQ2p54xf\"\n",
    "    access_token_secret = \"cYc2xsbeKiTAlb8RuQ9btHZxERGNoFrlazKBPTnQ\"\n",
    "    \n",
    "    auth = tw.OAuthHandler(consumer_key, consumer_secret) #OAuth authentication\n",
    "    auth.set_access_token(access_token, access_token_secret) #set access token\n",
    "    api = tw.API(auth, wait_on_rate_limit=True) #API wrapper\n",
    "    #wait on rate limit --> apakah akan secara otomatis menunggu rate limit untuk diisi ulang atau tidak\n",
    "\n",
    "    #tweepy cursor object, Cursor handles all the pagination work behind the scenes\n",
    "    tweets = tw.Cursor(api.search,\n",
    "                       q=term,\n",
    "                       lang=\"id\").items(5)\n",
    "    \n",
    "    tw_data = [tweet.text for tweet in tweets]\n",
    "    \n",
    "    return tw_data"
   ]
  },
  {
   "cell_type": "code",
   "execution_count": null,
   "metadata": {},
   "outputs": [],
   "source": [
    "search_words = \"kepriwe\"\n",
    "new_search = search_words + \" filter:retweets\"\n",
    "\n",
    "result = search_twitter(new_search)\n",
    "df = pd.DataFrame(data =result,columns=[\"Tweet\"])\n",
    "df"
   ]
  },
  {
   "cell_type": "code",
   "execution_count": null,
   "metadata": {},
   "outputs": [],
   "source": [
    "df.drop_duplicates(subset=\"Tweet\")"
   ]
  },
  {
   "cell_type": "code",
   "execution_count": null,
   "metadata": {},
   "outputs": [],
   "source": [
    "word_lists = ['piye cuk','yo opo rek']\n",
    "\n",
    "for w in word_lists:\n",
    "    result = search_twitter(w)\n",
    "    df = pd.DataFrame(data =result,columns=[\"Tweet\"])\n",
    "    \n",
    "all_df = df.append(df, ignore_index = True)\n",
    "print(all_df)"
   ]
  },
  {
   "cell_type": "code",
   "execution_count": null,
   "metadata": {},
   "outputs": [],
   "source": [
    "all_df.to_excel(\"tweet_raw.xlsx\")"
   ]
  }
 ],
 "metadata": {
  "language_info": {
   "codemirror_mode": {
    "name": "ipython",
    "version": 3
   },
   "file_extension": ".py",
   "mimetype": "text/x-python",
   "name": "python",
   "nbconvert_exporter": "python",
   "pygments_lexer": "ipython3",
   "version": "3.7.4-final"
  },
  "orig_nbformat": 2,
  "kernelspec": {
   "name": "python37464bitanaconda3virtualenvfc801a8c42d14f0d884d7f22cd4e486a",
   "display_name": "Python 3.7.4 64-bit ('anaconda3': virtualenv)"
  }
 },
 "nbformat": 4,
 "nbformat_minor": 2
}