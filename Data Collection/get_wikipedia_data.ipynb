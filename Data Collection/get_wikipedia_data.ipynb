{
  "nbformat": 4,
  "nbformat_minor": 0,
  "metadata": {
    "colab": {
      "name": "Get Wikipedia Data.ipynb",
      "provenance": []
    },
    "kernelspec": {
      "name": "python3",
      "display_name": "Python 3"
    }
  },
  "cells": [
    {
      "cell_type": "code",
      "metadata": {
        "id": "mjLD3rUtfp_W",
        "colab_type": "code",
        "colab": {
          "base_uri": "https://localhost:8080/",
          "height": 292
        },
        "outputId": "4640b1aa-8953-4821-b410-9c32a1c4528e"
      },
      "source": [
        "pip install wikipedia"
      ],
      "execution_count": null,
      "outputs": [
        {
          "output_type": "stream",
          "text": [
            "Collecting wikipedia\n",
            "  Downloading https://files.pythonhosted.org/packages/67/35/25e68fbc99e672127cc6fbb14b8ec1ba3dfef035bf1e4c90f78f24a80b7d/wikipedia-1.4.0.tar.gz\n",
            "Requirement already satisfied: beautifulsoup4 in /usr/local/lib/python3.6/dist-packages (from wikipedia) (4.6.3)\n",
            "Requirement already satisfied: requests<3.0.0,>=2.0.0 in /usr/local/lib/python3.6/dist-packages (from wikipedia) (2.23.0)\n",
            "Requirement already satisfied: urllib3!=1.25.0,!=1.25.1,<1.26,>=1.21.1 in /usr/local/lib/python3.6/dist-packages (from requests<3.0.0,>=2.0.0->wikipedia) (1.24.3)\n",
            "Requirement already satisfied: chardet<4,>=3.0.2 in /usr/local/lib/python3.6/dist-packages (from requests<3.0.0,>=2.0.0->wikipedia) (3.0.4)\n",
            "Requirement already satisfied: idna<3,>=2.5 in /usr/local/lib/python3.6/dist-packages (from requests<3.0.0,>=2.0.0->wikipedia) (2.10)\n",
            "Requirement already satisfied: certifi>=2017.4.17 in /usr/local/lib/python3.6/dist-packages (from requests<3.0.0,>=2.0.0->wikipedia) (2020.6.20)\n",
            "Building wheels for collected packages: wikipedia\n",
            "  Building wheel for wikipedia (setup.py) ... \u001b[?25l\u001b[?25hdone\n",
            "  Created wheel for wikipedia: filename=wikipedia-1.4.0-cp36-none-any.whl size=11686 sha256=446182f8ba60629e2de07d976df6931dfbaf21e3341bff7596a9c998a1c5e7df\n",
            "  Stored in directory: /root/.cache/pip/wheels/87/2a/18/4e471fd96d12114d16fe4a446d00c3b38fb9efcb744bd31f4a\n",
            "Successfully built wikipedia\n",
            "Installing collected packages: wikipedia\n",
            "Successfully installed wikipedia-1.4.0\n"
          ],
          "name": "stdout"
        }
      ]
    },
    {
      "cell_type": "code",
      "metadata": {
        "id": "77P_ZqO_iTW7",
        "colab_type": "code",
        "colab": {}
      },
      "source": [
        "import wikipedia\n",
        "import re"
      ],
      "execution_count": null,
      "outputs": []
    },
    {
      "cell_type": "code",
      "metadata": {
        "id": "YUiD5egeiaCQ",
        "colab_type": "code",
        "colab": {
          "base_uri": "https://localhost:8080/",
          "height": 54
        },
        "outputId": "7cd5aa45-af1b-4f5d-dfcf-560e15405268"
      },
      "source": [
        "#specify the title of Wikipedia page \n",
        "wiki = wikipedia.page('Universitas Islam Indonesia')\n",
        "\n",
        "#Extract the text from the page\n",
        "text = wiki.content\n",
        "\n",
        "# Clean text\n",
        "text = re.sub(r'==.*?==+', '', text)\n",
        "text = text.replace('\\n', '')\n",
        "print(text)"
      ],
      "execution_count": null,
      "outputs": [
        {
          "output_type": "stream",
          "text": [
            "The Islamic University of Indonesia (Indonesian: Universitas Islam Indonesia or UII, Arabic: الجمعة الاسلامية الاندونيسية) is a national private university in Yogyakarta, Indonesia. It was established on 27 Rajab 1364 (Islamic calendar) or on 8 July 1945 as STI (Sekolah Tinggi Islam – Islamic Higher School) by political figures of the day including Dr. Mohammad Hatta, Mohammad Natsir, Mohammad Roem, Wahid Hasyim, and Abdul Kahar Muzakir. STI developed into a university called Universitas Islam Indonesia on 14 December 1947. Historically, UII is the first national university in Indonesia, and it is the oldest private university in the country.The university is in Sleman, Special Region of Yogyakarta.In 1945, a general assembly meeting of the Masjoemi (Majelis Sjoero Moeslimin Indonesia) was held. The meeting was attended by political figures including Dr. Muhammad Hatta (the first vice president of Indonesia), Mohammad Natsir, Mohammad Roem, and Wachid Hasyim. One of the decisions of this meeting was the establishment of Sekolah Tinggi Islam (STI-Islamic Higher School). STI began operating on July 28, 1945 and developed into a university called Universitas Islam Indonesia (UII) on November 3, 1947.UII had faculties of Religion, Law, Education, and Economics, which began operations in June 1948. About seven months later, UII was forced to close due to the Dutch military invasion. Many students and staff members joined the Indonesian military force to repel the invasion. In the early 1950s, shortly after the war, UII had to move its classes around the city of Yogyakarta, even using part of the Sultan's Palace and some of the faculty members' houses as classrooms.UII saw much improvement between 1961 and 1970 under the leadership of Prof. R.H.A. Kasmat Bahuwinangun (1960–1963) and Prof. Dr. Dr. Sardjito (1964–1970). During his term in office, Bahuwinangun helped develop UII's Faculty of Islamic Studies and Faculty of Tarbiyah as well as expanding to Purwokerto to establish the Faculty of Law and Syari'ah.From 1964 to 1970, under the leadership of Dr. Sardjito (a leading medical doctor), UII expanded to encompass 22 faculties: five were in Yogyakarta. The rest were in three provinces: Central Java (Solo, Klaten, and Purwokerto); and West and North Sulawesi (Gorontalo). The areas of study offered were Economics, Law, Islamic Law (Syari'ah), Islamic Education (Tarbiyah), Engineering, Medicine, Veterinary Medicine, and Pharmacy. However, when government regulations prevented UII from maintaining educational activities outside Yogyakarta, UII had to close its branch campuses. Some of them became associated with local institutions, including the Faculty of Medicine, which was closed in 1975.In the early 1970s to 1982, UII saw extensive physical development of its offices and faculty buildings, beginning with the current central office on busy Cik di Tiro Street. This construction was followed by the development of three other campuses throughout the city. During this period, several of UII's faculties acquired accreditation and initiated collaboration with national and international entities, including Gadjah Mada University, King Abdul Azis University of Saudi Arabia, and The Asia Foundation.Since the beginning of the 1990s, UII has been developing an integrated campus in Sleman regency, in the northern part of the province of Yogyakarta. Most of UII's faculties and buildings will eventually be on these 25 hectares of land.There are three colors in UII's symbol, which are:Blue means determination or trustworthiness. It means that UII will create trusted and wise graduates.Yellowish gold means an expectation and a symbol of education. It means that UII will engender graduates expected by the nation who will maintain and spread knowledge through Islamic education.White means sincere, honest and persevering. It means that the graduates UII produces are those who are honest and loyal to the country and nation, and persistent and faithful to Allah the Almighty, in line with Islamic teachings and pleas.The meaning of the logo of the Islamic University of Indonesia is:The shield shape means endurance and resistance. It means that UII will sustain the name as one of the universities able to produce good graduates.The middle shape distilir as a mosque dome. It symbolizes that Indonesia culture is in line with Islamic values.The five-petal flower can mean Pancasila, which can mean the five pillars of Islam.The pistil forms a trisula. It symbolizes what the Tri Dharma Perguruan Tinggi (the three basic goals of higher education).The tip of the trisula which looks like a pen is a symbol of education.The middle sepal is a picture of a book which is Al-Qur'an.The lowest part of the sepal is two crutches. They symbolize two Islamic creeds (syahadat). The symbols in the middle as a whole exemplify the goal of UII which is based on Islamic values and Pancasila.The shape of pyramidal ship is the door of a mosque below the petal is meant to be the Islamic culture.The Central Library has a collection of more than 250,000 books and consists of circulated books from faculties in integrated campus, in Kaliurang Road, Yogyakarta. Online Public Access Catalogue (OPAC) can be accessed here. Library portal, designed for students and researchers to view collections, is accessible here.The mosque is the main building at the heart of integrated campus daily life. Studies and the entire activities schedule of the mosque can be accessed here.The auditorium is a multifunctional building both students and the community can utilize it. Auditorium usage schedule information can be found here.Is one of innovations made to link the religion and academic life within students. You can explore the online work of the students on their site pages here.Is one of Waqf Foundation of Islamic University of Indonesia can present to the public as excellent medical services. Related information for patients and business partners can be obtained through the web page of the hospital here.Provides health facilities for students and surrounding communities. Medical services by doctors are provided at certain hours.Is a building that was built for the activities of lectures in large rooms, also for national seminars, and other activities. The building is named Prof. Dr. dr. M. Sardjito, MD, MPH, UII Rector between 1963–1970.Is a unit under Direktorat Pemasaran, Kerja Sama, dan Alumni (DPKA) Field III of Islamic University of Indonesia. UII Career Center established at May 12, 2003 and since 2006 UII Career Center is inaugurated by Minister of Manpower and Transmigration Republic of Indonesia as special job fair of Department of Manpower and Transmigration, Daerah Istimewa Yogyakarta.Is the latest building owned by UII. The very representative building with capacity of approximately 600 people, GOR has facilities for one basketball court and 3 badminton courts which can be enjoyed by the students or the general public.Has now been completed and officially handed over from the Foundation for Waqf Board.Is a new building built from the Ministry of Housing grant and has been submitted to Islamic University of Indonesia at the end of the year 2007. This Rusunawa capacity of 300 students who are temporarily reserved for student activities.Is language training center and cultural studies under Islamic University of Indonesia which committed to play a role in the improvement of language skills.Is one of earliest radio broadcasts in universities in Yogyakarta.Is located in the Basement of Rectorate Building in integrated campus area. In this facility, students can request access to integrated hotspots.With long-term plans towards a world-class university, UII has collaborated with other institutions.Academic collaborations have been conducted with universities, local and overseas. This has taken the form of student and staff exchange, joint research and internship programs. The student and staff exchange, along with joint research, has been conducted with Universiti Tunku Abdul Rahman, Woosong University of Korea, Hokkaido University, Wollongong University, Hannseidel Foundation, Universitas Bina Nusantara, George Mason University, and the University of Hawaii at Mānoa to name but a few.UII has been working with International Internships in Australia to facilitate students from Australia to experience a working environment in Indonesia. The students come from Monash University, Sunshine Coast University, Macquarie University and Deakin University, among others.UII has an agreement with the Australian Consortium for In Country Indonesian (ACICIS) which help students from Australia to take program courses in Indonesia. The collaboration covers the area of development in thought, such as the collaboration with International Institute of Islamic Thought on Epistemology.UII has worked with other institutions to enhance its application of academic programs developed in the university. The institutions include national private and government institutions, both local and from overseas.In 2001 the university began requiring female students to wear the jilbab (hijab headcovering); before that students had the choice of whether or not to wear it. In March 2005 the university added requirements detailing four acceptable styles of hijab. According to Eve Warburton of Inside Indonesia, opinion on staff and students was divided, and some professors stated that they did not wish to enforce it.News[2]Reference[3]Donations[4][5]\n"
          ],
          "name": "stdout"
        }
      ]
    }
  ]
}