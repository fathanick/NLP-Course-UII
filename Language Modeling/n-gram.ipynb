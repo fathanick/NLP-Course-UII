{
 "cells": [
  {
   "cell_type": "code",
   "execution_count": 9,
   "metadata": {
    "collapsed": true
   },
   "outputs": [],
   "source": [
    "#source: http://www.albertauyeung.com/post/generating-ngrams-python/\n",
    "s = \"Natural-language processing (NLP) is an area of computer science \" \\\n",
    "    \"and artificial intelligence concerned with the interactions \" \\\n",
    "    \"between computers and human (natural) languages.\""
   ]
  },
  {
   "cell_type": "code",
   "execution_count": 11,
   "metadata": {},
   "outputs": [
    {
     "name": "stdout",
     "output_type": "stream",
     "text": [
      "[('natural', 'language'), ('language', 'processing'), ('processing', 'nlp'), ('nlp', 'is'), ('is', 'an'), ('an', 'area'), ('area', 'of'), ('of', 'computer'), ('computer', 'science'), ('science', 'and'), ('and', 'artificial'), ('artificial', 'intelligence'), ('intelligence', 'concerned'), ('concerned', 'with'), ('with', 'the'), ('the', 'interactions'), ('interactions', 'between'), ('between', 'computers'), ('computers', 'and'), ('and', 'human'), ('human', 'natural'), ('natural', 'languages')]\n"
     ]
    }
   ],
   "source": [
    "import re\n",
    "from nltk.util import ngrams\n",
    "\n",
    "s = s.lower()\n",
    "s = re.sub(r'[^a-zA-Z0-9\\s]', ' ', s)\n",
    "tokens = [token for token in s.split(\" \") if token != \"\"]\n",
    "output = list(ngrams(tokens, 2))\n",
    "print(output)"
   ]
  },
  {
   "cell_type": "code",
   "execution_count": 12,
   "metadata": {},
   "outputs": [
    {
     "data": {
      "text/plain": [
       "Counter({('an', 'area'): 1,\n",
       "         ('and', 'artificial'): 1,\n",
       "         ('and', 'human'): 1,\n",
       "         ('area', 'of'): 1,\n",
       "         ('artificial', 'intelligence'): 1,\n",
       "         ('between', 'computers'): 1,\n",
       "         ('computer', 'science'): 1,\n",
       "         ('computers', 'and'): 1,\n",
       "         ('concerned', 'with'): 1,\n",
       "         ('human', 'natural'): 1,\n",
       "         ('intelligence', 'concerned'): 1,\n",
       "         ('interactions', 'between'): 1,\n",
       "         ('is', 'an'): 1,\n",
       "         ('language', 'processing'): 1,\n",
       "         ('natural', 'language'): 1,\n",
       "         ('natural', 'languages'): 1,\n",
       "         ('nlp', 'is'): 1,\n",
       "         ('of', 'computer'): 1,\n",
       "         ('processing', 'nlp'): 1,\n",
       "         ('science', 'and'): 1,\n",
       "         ('the', 'interactions'): 1,\n",
       "         ('with', 'the'): 1})"
      ]
     },
     "execution_count": 12,
     "metadata": {},
     "output_type": "execute_result"
    }
   ],
   "source": [
    "from collections import Counter\n",
    "count = Counter(output)\n",
    "count"
   ]
  },
  {
   "cell_type": "code",
   "execution_count": null,
   "metadata": {
    "collapsed": true
   },
   "outputs": [],
   "source": []
  }
 ],
 "metadata": {
  "kernelspec": {
   "display_name": "Python 3",
   "language": "python",
   "name": "python3"
  },
  "language_info": {
   "codemirror_mode": {
    "name": "ipython",
    "version": 3
   },
   "file_extension": ".py",
   "mimetype": "text/x-python",
   "name": "python",
   "nbconvert_exporter": "python",
   "pygments_lexer": "ipython3",
   "version": "3.6.3"
  }
 },
 "nbformat": 4,
 "nbformat_minor": 2
}
