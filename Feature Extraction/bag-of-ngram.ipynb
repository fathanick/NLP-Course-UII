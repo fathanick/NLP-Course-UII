{
 "metadata": {
  "language_info": {
   "codemirror_mode": {
    "name": "ipython",
    "version": 3
   },
   "file_extension": ".py",
   "mimetype": "text/x-python",
   "name": "python",
   "nbconvert_exporter": "python",
   "pygments_lexer": "ipython3",
   "version": "3.7.4-final"
  },
  "orig_nbformat": 2,
  "kernelspec": {
   "name": "python37464bitanaconda3virtualenvfc801a8c42d14f0d884d7f22cd4e486a",
   "display_name": "Python 3.7.4 64-bit ('anaconda3': virtualenv)"
  }
 },
 "nbformat": 4,
 "nbformat_minor": 2,
 "cells": [
  {
   "cell_type": "code",
   "execution_count": 1,
   "metadata": {},
   "outputs": [],
   "source": [
    "import pandas as pd\n",
    "from sklearn.feature_extraction.text import TfidfTransformer\n",
    "from sklearn.feature_extraction.text import CountVectorizer\n",
    "import numpy as np"
   ]
  },
  {
   "cell_type": "code",
   "execution_count": 2,
   "metadata": {},
   "outputs": [],
   "source": [
    "corpus = ['this is the first document',\n",
    "          'this is the second document or second sentence',\n",
    "          'and this is the third one',\n",
    "          'is this the first document or document one']"
   ]
  },
  {
   "cell_type": "code",
   "execution_count": 3,
   "metadata": {},
   "outputs": [
    {
     "output_type": "execute_result",
     "data": {
      "text/plain": [
       "   and this  document one  document or  first document  is the  is this  \\\n",
       "0         0             0            0               1       1        0   \n",
       "1         0             0            1               0       1        0   \n",
       "2         1             0            0               0       1        0   \n",
       "3         0             1            1               1       0        1   \n",
       "\n",
       "   or document  or second  second document  second sentence  the first  \\\n",
       "0            0          0                0                0          1   \n",
       "1            0          1                1                1          0   \n",
       "2            0          0                0                0          0   \n",
       "3            1          0                0                0          1   \n",
       "\n",
       "   the second  the third  third one  this is  this the  \n",
       "0           0          0          0        1         0  \n",
       "1           1          0          0        1         0  \n",
       "2           0          1          1        1         0  \n",
       "3           0          0          0        0         1  "
      ],
      "text/html": "<div>\n<style scoped>\n    .dataframe tbody tr th:only-of-type {\n        vertical-align: middle;\n    }\n\n    .dataframe tbody tr th {\n        vertical-align: top;\n    }\n\n    .dataframe thead th {\n        text-align: right;\n    }\n</style>\n<table border=\"1\" class=\"dataframe\">\n  <thead>\n    <tr style=\"text-align: right;\">\n      <th></th>\n      <th>and this</th>\n      <th>document one</th>\n      <th>document or</th>\n      <th>first document</th>\n      <th>is the</th>\n      <th>is this</th>\n      <th>or document</th>\n      <th>or second</th>\n      <th>second document</th>\n      <th>second sentence</th>\n      <th>the first</th>\n      <th>the second</th>\n      <th>the third</th>\n      <th>third one</th>\n      <th>this is</th>\n      <th>this the</th>\n    </tr>\n  </thead>\n  <tbody>\n    <tr>\n      <td>0</td>\n      <td>0</td>\n      <td>0</td>\n      <td>0</td>\n      <td>1</td>\n      <td>1</td>\n      <td>0</td>\n      <td>0</td>\n      <td>0</td>\n      <td>0</td>\n      <td>0</td>\n      <td>1</td>\n      <td>0</td>\n      <td>0</td>\n      <td>0</td>\n      <td>1</td>\n      <td>0</td>\n    </tr>\n    <tr>\n      <td>1</td>\n      <td>0</td>\n      <td>0</td>\n      <td>1</td>\n      <td>0</td>\n      <td>1</td>\n      <td>0</td>\n      <td>0</td>\n      <td>1</td>\n      <td>1</td>\n      <td>1</td>\n      <td>0</td>\n      <td>1</td>\n      <td>0</td>\n      <td>0</td>\n      <td>1</td>\n      <td>0</td>\n    </tr>\n    <tr>\n      <td>2</td>\n      <td>1</td>\n      <td>0</td>\n      <td>0</td>\n      <td>0</td>\n      <td>1</td>\n      <td>0</td>\n      <td>0</td>\n      <td>0</td>\n      <td>0</td>\n      <td>0</td>\n      <td>0</td>\n      <td>0</td>\n      <td>1</td>\n      <td>1</td>\n      <td>1</td>\n      <td>0</td>\n    </tr>\n    <tr>\n      <td>3</td>\n      <td>0</td>\n      <td>1</td>\n      <td>1</td>\n      <td>1</td>\n      <td>0</td>\n      <td>1</td>\n      <td>1</td>\n      <td>0</td>\n      <td>0</td>\n      <td>0</td>\n      <td>1</td>\n      <td>0</td>\n      <td>0</td>\n      <td>0</td>\n      <td>0</td>\n      <td>1</td>\n    </tr>\n  </tbody>\n</table>\n</div>"
     },
     "metadata": {},
     "execution_count": 3
    }
   ],
   "source": [
    "#bag of 2-gram model\n",
    "\n",
    "bigram_vect = CountVectorizer(ngram_range=(2,2))\n",
    "bigram_vect_matrix = bigram_vect.fit_transform(corpus)\n",
    "\n",
    "bigram_vect_matrix = bigram_vect_matrix.toarray()\n",
    "bigram_vocab = bigram_vect.get_feature_names()\n",
    "pd.DataFrame(bigram_vect_matrix, columns=bigram_vocab)"
   ]
  },
  {
   "cell_type": "code",
   "execution_count": null,
   "metadata": {},
   "outputs": [],
   "source": []
  }
 ]
}