{
 "cells": [
  {
   "cell_type": "code",
   "execution_count": null,
   "metadata": {},
   "outputs": [],
   "source": [
    "import nltk\n",
    "from nltk.tokenize import word_tokenize"
   ]
  },
  {
   "cell_type": "code",
   "execution_count": null,
   "metadata": {},
   "outputs": [],
   "source": [
    "documents = ['I am the king',\n",
    "        'The kingdom is prosperous',\n",
    "        'She is the queen',\n",
    "        'The royal queen and the queen are beautiful']\n",
    "\n",
    "print(documents)"
   ]
  },
  {
   "cell_type": "code",
   "execution_count": null,
   "metadata": {},
   "outputs": [],
   "source": [
    "words = []\n",
    "for doc in documents:\n",
    "  doc = word_tokenize(doc)\n",
    "  for d in doc:\n",
    "    d = d.lower()\n",
    "    words.append(d)\n",
    "\n",
    "print(words)"
   ]
  },
  {
   "cell_type": "code",
   "execution_count": null,
   "metadata": {},
   "outputs": [],
   "source": [
    "# bag of words\n",
    "wordfreq = {}\n",
    "for word in words:\n",
    "  if word not in wordfreq.keys():\n",
    "    wordfreq[word] = 1\n",
    "  else:\n",
    "    wordfreq[word] +=1\n",
    "  \n",
    "wordfreq"
   ]
  },
  {
   "cell_type": "code",
   "execution_count": null,
   "metadata": {},
   "outputs": [],
   "source": [
    "# calculating term frequency (tf) --> number of times term t appears in a document/total number of terms in the document\n",
    "\n",
    "total_term = len(words)\n",
    "print(total_term)\n",
    "\n",
    "term_freq = {}\n",
    "for word in words:\n",
    "  term_freq[word] = wordfreq.get(word)/total_term\n",
    "\n",
    "print(term_freq)"
   ]
  },
  {
   "cell_type": "code",
   "execution_count": null,
   "metadata": {},
   "outputs": [],
   "source": [
    "new_docs = []\n",
    "for doc in documents:\n",
    "  doc = doc.lower()\n",
    "  token = word_tokenize(doc)\n",
    "  #tokens = ' '.join(token)\n",
    "  new_docs.append(token)\n",
    "\n",
    "new_docs[2]"
   ]
  },
  {
   "cell_type": "code",
   "execution_count": null,
   "metadata": {},
   "outputs": [],
   "source": [
    "doc_freq = {}\n",
    "N = len(documents)\n",
    "df = 0\n",
    "\n",
    "for w in wordfreq:\n",
    "  for item in new_docs:\n",
    "    if w in item:\n",
    "      if w not in doc_freq.keys():\n",
    "        doc_freq[w] = 1\n",
    "      else:\n",
    "        doc_freq[w] += 1\n",
    "  \n",
    "doc_freq"
   ]
  },
  {
   "cell_type": "code",
   "execution_count": null,
   "metadata": {},
   "outputs": [],
   "source": [
    "import math\n",
    "\n",
    "word_idf = {}\n",
    "N = len(documents)\n",
    "df = 0\n",
    "\n",
    "for d in doc_freq:\n",
    "  word_idf[d] = math.log10(N/doc_freq[d])\n",
    "\n",
    "word_idf"
   ]
  },
  {
   "cell_type": "code",
   "execution_count": null,
   "metadata": {},
   "outputs": [],
   "source": [
    "tf_idf = {}\n",
    "\n",
    "for w in word_idf:\n",
    "  for t in term_freq:\n",
    "    tf_idf[t] = term_freq[t] * word_idf[t]\n",
    "\n",
    "tf_idf"
   ]
  }
 ],
 "metadata": {
  "language_info": {
   "codemirror_mode": {
    "name": "ipython",
    "version": 3
   },
   "file_extension": ".py",
   "mimetype": "text/x-python",
   "name": "python",
   "nbconvert_exporter": "python",
   "pygments_lexer": "ipython3",
   "version": "3.7.4-final"
  },
  "orig_nbformat": 2,
  "kernelspec": {
   "name": "python37464bitanaconda3virtualenvfc801a8c42d14f0d884d7f22cd4e486a",
   "display_name": "Python 3.7.4 64-bit ('anaconda3': virtualenv)"
  }
 },
 "nbformat": 4,
 "nbformat_minor": 2
}