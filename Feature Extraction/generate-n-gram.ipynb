{
 "cells": [
  {
   "cell_type": "code",
   "execution_count": 1,
   "metadata": {
    "collapsed": true
   },
   "outputs": [],
   "source": [
    "#source: http://www.albertauyeung.com/post/generating-ngrams-python/\n",
    "s = \"Natural-language processing (NLP) is an area of computer science \" \\\n",
    "    \"and artificial intelligence concerned with the interactions \" \\\n",
    "    \"between computers and human (natural) languages.\""
   ]
  },
  {
   "cell_type": "code",
   "execution_count": 3,
   "metadata": {},
   "outputs": [
    {
     "output_type": "stream",
     "name": "stdout",
     "text": [
      "[('natural', 'language', 'processing'), ('language', 'processing', 'nlp'), ('processing', 'nlp', 'is'), ('nlp', 'is', 'an'), ('is', 'an', 'area'), ('an', 'area', 'of'), ('area', 'of', 'computer'), ('of', 'computer', 'science'), ('computer', 'science', 'and'), ('science', 'and', 'artificial'), ('and', 'artificial', 'intelligence'), ('artificial', 'intelligence', 'concerned'), ('intelligence', 'concerned', 'with'), ('concerned', 'with', 'the'), ('with', 'the', 'interactions'), ('the', 'interactions', 'between'), ('interactions', 'between', 'computers'), ('between', 'computers', 'and'), ('computers', 'and', 'human'), ('and', 'human', 'natural'), ('human', 'natural', 'languages')]\n"
     ]
    }
   ],
   "source": [
    "import re\n",
    "from nltk.util import ngrams\n",
    "\n",
    "s = s.lower()\n",
    "s = re.sub(r'[^a-zA-Z0-9\\s]', ' ', s)\n",
    "tokens = [token for token in s.split(\" \") if token != \"\"]\n",
    "output = list(ngrams(tokens, 3))\n",
    "print(output)"
   ]
  },
  {
   "cell_type": "code",
   "execution_count": 4,
   "metadata": {},
   "outputs": [
    {
     "output_type": "execute_result",
     "data": {
      "text/plain": [
       "Counter({('natural', 'language', 'processing'): 1,\n",
       "         ('language', 'processing', 'nlp'): 1,\n",
       "         ('processing', 'nlp', 'is'): 1,\n",
       "         ('nlp', 'is', 'an'): 1,\n",
       "         ('is', 'an', 'area'): 1,\n",
       "         ('an', 'area', 'of'): 1,\n",
       "         ('area', 'of', 'computer'): 1,\n",
       "         ('of', 'computer', 'science'): 1,\n",
       "         ('computer', 'science', 'and'): 1,\n",
       "         ('science', 'and', 'artificial'): 1,\n",
       "         ('and', 'artificial', 'intelligence'): 1,\n",
       "         ('artificial', 'intelligence', 'concerned'): 1,\n",
       "         ('intelligence', 'concerned', 'with'): 1,\n",
       "         ('concerned', 'with', 'the'): 1,\n",
       "         ('with', 'the', 'interactions'): 1,\n",
       "         ('the', 'interactions', 'between'): 1,\n",
       "         ('interactions', 'between', 'computers'): 1,\n",
       "         ('between', 'computers', 'and'): 1,\n",
       "         ('computers', 'and', 'human'): 1,\n",
       "         ('and', 'human', 'natural'): 1,\n",
       "         ('human', 'natural', 'languages'): 1})"
      ]
     },
     "metadata": {},
     "execution_count": 4
    }
   ],
   "source": [
    "from collections import Counter\n",
    "count = Counter(output)\n",
    "count"
   ]
  },
  {
   "cell_type": "code",
   "execution_count": null,
   "metadata": {
    "collapsed": true
   },
   "outputs": [],
   "source": []
  }
 ],
 "metadata": {
  "kernelspec": {
   "display_name": "Python 3",
   "language": "python",
   "name": "python3"
  },
  "language_info": {
   "codemirror_mode": {
    "name": "ipython",
    "version": 3
   },
   "file_extension": ".py",
   "mimetype": "text/x-python",
   "name": "python",
   "nbconvert_exporter": "python",
   "pygments_lexer": "ipython3",
   "version": "3.7.4-final"
  }
 },
 "nbformat": 4,
 "nbformat_minor": 2
}