{
 "cells": [
  {
   "cell_type": "code",
   "execution_count": 9,
   "metadata": {},
   "outputs": [],
   "source": [
    "import nltk\n",
    "from nltk.tokenize import word_tokenize"
   ]
  },
  {
   "cell_type": "code",
   "execution_count": 10,
   "metadata": {},
   "outputs": [
    {
     "output_type": "stream",
     "name": "stdout",
     "text": "['I am the king', 'The kingdom is prosperous', 'She is the queen', 'The royal queen and the queen are beautiful']\n"
    }
   ],
   "source": [
    "documents = ['I am the king',\n",
    "        'The kingdom is prosperous',\n",
    "        'She is the queen',\n",
    "        'The royal queen and the queen are beautiful']\n",
    "\n",
    "print(documents)"
   ]
  },
  {
   "cell_type": "code",
   "execution_count": 11,
   "metadata": {},
   "outputs": [
    {
     "output_type": "stream",
     "name": "stdout",
     "text": "['i', 'am', 'the', 'king', 'the', 'kingdom', 'is', 'prosperous', 'she', 'is', 'the', 'queen', 'the', 'royal', 'queen', 'and', 'the', 'queen', 'are', 'beautiful']\n"
    }
   ],
   "source": [
    "words = []\n",
    "for doc in documents:\n",
    "  doc = word_tokenize(doc)\n",
    "  for d in doc:\n",
    "    d = d.lower()\n",
    "    words.append(d)\n",
    "\n",
    "print(words)"
   ]
  },
  {
   "cell_type": "code",
   "execution_count": 12,
   "metadata": {},
   "outputs": [
    {
     "output_type": "execute_result",
     "data": {
      "text/plain": "{'i': 1,\n 'am': 1,\n 'the': 5,\n 'king': 1,\n 'kingdom': 1,\n 'is': 2,\n 'prosperous': 1,\n 'she': 1,\n 'queen': 3,\n 'royal': 1,\n 'and': 1,\n 'are': 1,\n 'beautiful': 1}"
     },
     "metadata": {},
     "execution_count": 12
    }
   ],
   "source": [
    "# bag of words\n",
    "wordfreq = {}\n",
    "for word in words:\n",
    "  if word not in wordfreq.keys():\n",
    "    wordfreq[word] = 1\n",
    "  else:\n",
    "    wordfreq[word] +=1\n",
    "  \n",
    "wordfreq"
   ]
  },
  {
   "cell_type": "code",
   "execution_count": 13,
   "metadata": {},
   "outputs": [
    {
     "output_type": "stream",
     "name": "stdout",
     "text": "20\n{'i': 0.05, 'am': 0.05, 'the': 0.25, 'king': 0.05, 'kingdom': 0.05, 'is': 0.1, 'prosperous': 0.05, 'she': 0.05, 'queen': 0.15, 'royal': 0.05, 'and': 0.05, 'are': 0.05, 'beautiful': 0.05}\n"
    }
   ],
   "source": [
    "# calculating term frequency (tf) --> number of times term t appears in a document/total number of terms in the document\n",
    "\n",
    "total_term = len(words)\n",
    "print(total_term)\n",
    "\n",
    "term_freq = {}\n",
    "for word in words:\n",
    "  term_freq[word] = wordfreq.get(word)/total_term\n",
    "\n",
    "print(term_freq)"
   ]
  },
  {
   "cell_type": "code",
   "execution_count": 14,
   "metadata": {},
   "outputs": [
    {
     "output_type": "execute_result",
     "data": {
      "text/plain": "['she', 'is', 'the', 'queen']"
     },
     "metadata": {},
     "execution_count": 14
    }
   ],
   "source": [
    "new_docs = []\n",
    "for doc in documents:\n",
    "  doc = doc.lower()\n",
    "  token = word_tokenize(doc)\n",
    "  #tokens = ' '.join(token)\n",
    "  new_docs.append(token)\n",
    "\n",
    "new_docs[2]"
   ]
  },
  {
   "cell_type": "code",
   "execution_count": 15,
   "metadata": {},
   "outputs": [
    {
     "output_type": "execute_result",
     "data": {
      "text/plain": "{'i': 1,\n 'am': 1,\n 'the': 4,\n 'king': 1,\n 'kingdom': 1,\n 'is': 2,\n 'prosperous': 1,\n 'she': 1,\n 'queen': 2,\n 'royal': 1,\n 'and': 1,\n 'are': 1,\n 'beautiful': 1}"
     },
     "metadata": {},
     "execution_count": 15
    }
   ],
   "source": [
    "doc_freq = {}\n",
    "N = len(documents)\n",
    "df = 0\n",
    "\n",
    "for w in wordfreq:\n",
    "  for item in new_docs:\n",
    "    if w in item:\n",
    "      if w not in doc_freq.keys():\n",
    "        doc_freq[w] = 1\n",
    "      else:\n",
    "        doc_freq[w] += 1\n",
    "  \n",
    "doc_freq"
   ]
  },
  {
   "cell_type": "code",
   "execution_count": 16,
   "metadata": {},
   "outputs": [
    {
     "output_type": "execute_result",
     "data": {
      "text/plain": "{'i': 0.6020599913279624,\n 'am': 0.6020599913279624,\n 'the': 0.0,\n 'king': 0.6020599913279624,\n 'kingdom': 0.6020599913279624,\n 'is': 0.3010299956639812,\n 'prosperous': 0.6020599913279624,\n 'she': 0.6020599913279624,\n 'queen': 0.3010299956639812,\n 'royal': 0.6020599913279624,\n 'and': 0.6020599913279624,\n 'are': 0.6020599913279624,\n 'beautiful': 0.6020599913279624}"
     },
     "metadata": {},
     "execution_count": 16
    }
   ],
   "source": [
    "import math\n",
    "\n",
    "word_idf = {}\n",
    "N = len(documents)\n",
    "df = 0\n",
    "\n",
    "for d in doc_freq:\n",
    "  word_idf[d] = math.log10(N/doc_freq[d])\n",
    "\n",
    "word_idf"
   ]
  },
  {
   "cell_type": "code",
   "execution_count": 17,
   "metadata": {},
   "outputs": [
    {
     "output_type": "execute_result",
     "data": {
      "text/plain": "{'i': 0.03010299956639812,\n 'am': 0.03010299956639812,\n 'the': 0.0,\n 'king': 0.03010299956639812,\n 'kingdom': 0.03010299956639812,\n 'is': 0.03010299956639812,\n 'prosperous': 0.03010299956639812,\n 'she': 0.03010299956639812,\n 'queen': 0.04515449934959718,\n 'royal': 0.03010299956639812,\n 'and': 0.03010299956639812,\n 'are': 0.03010299956639812,\n 'beautiful': 0.03010299956639812}"
     },
     "metadata": {},
     "execution_count": 17
    }
   ],
   "source": [
    "tf_idf = {}\n",
    "\n",
    "for w in word_idf:\n",
    "  for t in term_freq:\n",
    "    tf_idf[t] = term_freq[t] * word_idf[t]\n",
    "\n",
    "tf_idf"
   ]
  }
 ],
 "metadata": {
  "language_info": {
   "codemirror_mode": {
    "name": "ipython",
    "version": 3
   },
   "file_extension": ".py",
   "mimetype": "text/x-python",
   "name": "python",
   "nbconvert_exporter": "python",
   "pygments_lexer": "ipython3",
   "version": "3.7.4-final"
  },
  "orig_nbformat": 2,
  "kernelspec": {
   "name": "python37464bitanaconda3virtualenvfc801a8c42d14f0d884d7f22cd4e486a",
   "display_name": "Python 3.7.4 64-bit ('anaconda3': virtualenv)"
  }
 },
 "nbformat": 4,
 "nbformat_minor": 2
}