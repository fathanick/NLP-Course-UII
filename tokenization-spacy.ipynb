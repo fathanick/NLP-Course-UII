{
 "nbformat": 4,
 "nbformat_minor": 2,
 "metadata": {
  "language_info": {
   "name": "python",
   "codemirror_mode": {
    "name": "ipython",
    "version": 3
   },
   "version": "3.7.4-final"
  },
  "orig_nbformat": 2,
  "file_extension": ".py",
  "mimetype": "text/x-python",
  "name": "python",
  "npconvert_exporter": "python",
  "pygments_lexer": "ipython3",
  "version": 3,
  "kernelspec": {
   "name": "python37464bitanaconda3virtualenvfc801a8c42d14f0d884d7f22cd4e486a",
   "display_name": "Python 3.7.4 64-bit ('anaconda3': virtualenv)"
  }
 },
 "cells": [
  {
   "cell_type": "code",
   "execution_count": 1,
   "metadata": {},
   "outputs": [],
   "source": [
    "import spacy"
   ]
  },
  {
   "cell_type": "code",
   "execution_count": 2,
   "metadata": {},
   "outputs": [],
   "source": [
    "spc = spacy.load(\"en\")"
   ]
  },
  {
   "cell_type": "code",
   "execution_count": 3,
   "metadata": {},
   "outputs": [
    {
     "output_type": "stream",
     "name": "stdout",
     "text": "Ledakan bintang raksasa alias supernova yang dikenal dengan nama SN2016aps dicatat sebagai supernova paling cerah yang pernah diamati astronom. Supernova ini terjadi di galaksi yang berjarak 3,6 miliar tahun cahaya dari Bumi.\nPenemuan ini diungkap oleh astronom dari Center for Astrophysics yang dimuat dalam jurnal Nature. Saking cerahnya, supernova ini bahkan mengalahkan galaksinya sendiri.\n\"Di supernova pada umumnya, radiasinya kurang dari 1% dari energi total,\" kata penulis utama studi ini, Matt Nicholl dari University of Birmingham dalam keterangannya yang dikutip detikINET dari Space, Rabu (15/4/2020).\n\n"
    }
   ],
   "source": [
    "f = open(\"sample-data/sample-text.txt\",\"r\")\n",
    "text = spc(f.read())\n",
    "print(text)"
   ]
  },
  {
   "cell_type": "code",
   "execution_count": 4,
   "metadata": {},
   "outputs": [
    {
     "output_type": "stream",
     "name": "stdout",
     "text": "Ledakan\nbintang\nraksasa\nalias\nsupernova\nyang\ndikenal\ndengan\nnama\nSN2016aps\ndicatat\nsebagai\nsupernova\npaling\ncerah\nyang\npernah\ndiamati\nastronom\n.\nSupernova\nini\nterjadi\ndi\ngalaksi\nyang\nberjarak\n3,6\nmiliar\ntahun\ncahaya\ndari\nBumi\n.\n\n\nPenemuan\nini\ndiungkap\noleh\nastronom\ndari\nCenter\nfor\nAstrophysics\nyang\ndimuat\ndalam\njurnal\nNature\n.\nSaking\ncerahnya\n,\nsupernova\nini\nbahkan\nmengalahkan\ngalaksinya\nsendiri\n.\n\n\n\"\nDi\nsupernova\npada\numumnya\n,\nradiasinya\nkurang\ndari\n1\n%\ndari\nenergi\ntotal\n,\n\"\nkata\npenulis\nutama\nstudi\nini\n,\nMatt\nNicholl\ndari\nUniversity\nof\nBirmingham\ndalam\nketerangannya\nyang\ndikutip\ndetikINET\ndari\nSpace\n,\nRabu\n(\n15/4/2020\n)\n.\n\n\n"
    }
   ],
   "source": [
    "for word in text:\n",
    "    print(word.text)"
   ]
  },
  {
   "cell_type": "code",
   "execution_count": 5,
   "metadata": {},
   "outputs": [
    {
     "output_type": "stream",
     "name": "stdout",
     "text": "Ledakan bintang raksasa alias supernova yang dikenal dengan nama SN2016aps dicatat sebagai supernova paling cerah yang pernah diamati astronom.\nSupernova ini terjadi\ndi galaksi yang berjarak 3,6 miliar tahun cahaya dari Bumi.\n\nPenemuan ini diungkap oleh astronom dari Center for Astrophysics yang dimuat dalam jurnal Nature.\nSaking cerahnya, supernova ini bahkan mengalahkan galaksinya sendiri.\n\n\"Di supernova pada umumnya, radiasinya kurang dari 1% dari energi total,\" kata penulis utama studi ini, Matt Nicholl dari University of Birmingham dalam keterangannya yang dikutip detikINET dari Space, Rabu (15/4/2020).\n\n"
    }
   ],
   "source": [
    "for sentence in text.sents:\n",
    "    print(sentence)"
   ]
  },
  {
   "cell_type": "code",
   "execution_count": null,
   "metadata": {},
   "outputs": [],
   "source": []
  }
 ]
}