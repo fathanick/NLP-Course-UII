{
 "cells": [
  {
   "cell_type": "code",
   "execution_count": 2,
   "metadata": {},
   "outputs": [
    {
     "name": "stderr",
     "output_type": "stream",
     "text": [
      "C:\\ProgramData\\Anaconda3\\lib\\site-packages\\gensim\\utils.py:1167: UserWarning: detected Windows; aliasing chunkize to chunkize_serial\n",
      "  warnings.warn(\"detected Windows; aliasing chunkize to chunkize_serial\")\n"
     ]
    }
   ],
   "source": [
    "import gensim\n",
    "import logging\n",
    "\n",
    "logging.basicConfig(format='%(asctime)s : %(levelname)s : %(message)s', level=logging.INFO)"
   ]
  },
  {
   "cell_type": "code",
   "execution_count": 3,
   "metadata": {},
   "outputs": [
    {
     "name": "stdout",
     "output_type": "stream",
     "text": [
      "b'Infrastruktur fisik dan sosial adalah dapat didefinisikan sebagai kebutuhan dasar fisik pengorganisasian sistem struktur yang diperlukan untuk jaminan ekonomi sektor publik dan sektor privat [1] sebagai layanan dan fasilitas yang diperlukan [2] agar perekonomian dapat berfungsi dengan baik [3] Istilah ini umumnya merujuk kepada hal infrastruktur teknis atau fisik yang mendukung jaringan struktur seperti fasilitas antara lain dapat berupa jalan, kereta api, air bersih, bandara, kanal, waduk, tanggul, pengelolahan limbah, perlistrikan, telekomunikasi, pelabuhan secara fungsional, infrastruktur selain fasilitasi akan tetapi dapat pula mendukung kelancaran aktivitas ekonomi masyarakat, distribusi aliran produksi barang dan jasa sebagai contoh bahwa jalan dapat melancarkan transportasi pengiriman bahan baku sampai ke pabrik kemudian untuk distribusi ke pasar hingga sampai kepada masyarakat. dalam beberapa pengertian, istilah infrastruktur termasuk pula infrastruktur sosial kebutuhan dasar seperti antara lain termasuk sekolah dan rumah sakit.[4] bila dalam militer, istilah ini dapat pula merujuk kepada bangunan permanen dan instalasi yang diperlukan untuk mendukung operasi dan pemindahan tersebut.[5]\\r\\n'\n"
     ]
    }
   ],
   "source": [
    "data_file = \"news.txt\"\n",
    "\n",
    "with open('news.txt', 'rb') as f:\n",
    "    for i,line in enumerate(f):\n",
    "        print(line)\n",
    "        break"
   ]
  },
  {
   "cell_type": "code",
   "execution_count": 4,
   "metadata": {},
   "outputs": [
    {
     "name": "stderr",
     "output_type": "stream",
     "text": [
      "2018-08-15 13:12:53,419 : INFO : reading file, this may take a while\n",
      "2018-08-15 13:12:53,545 : INFO : Done reading data file\n"
     ]
    }
   ],
   "source": [
    "def read_input(input_file):\n",
    "    logging.info(\"reading file, this may take a while\".format(input_file))\n",
    "    \n",
    "    with open(input_file, 'rb') as f:\n",
    "        for line in f:\n",
    "            yield gensim.utils.simple_preprocess(line)\n",
    "            \n",
    "\n",
    "documents = list(read_input(data_file))\n",
    "logging.info(\"Done reading data file\")"
   ]
  },
  {
   "cell_type": "code",
   "execution_count": 5,
   "metadata": {},
   "outputs": [
    {
     "name": "stderr",
     "output_type": "stream",
     "text": [
      "2018-08-15 13:12:53,639 : INFO : collecting all words and their counts\n",
      "2018-08-15 13:12:53,639 : INFO : PROGRESS: at sentence #0, processed 0 words, keeping 0 word types\n",
      "2018-08-15 13:12:53,675 : INFO : collected 7271 word types from a corpus of 68757 raw words and 5012 sentences\n",
      "2018-08-15 13:12:53,675 : INFO : Loading a fresh vocabulary\n",
      "2018-08-15 13:12:53,675 : INFO : min_count=2 retains 4124 unique words (56% of original 7271, drops 3147)\n",
      "2018-08-15 13:12:53,675 : INFO : min_count=2 leaves 65610 word corpus (95% of original 68757, drops 3147)\n",
      "2018-08-15 13:12:53,691 : INFO : deleting the raw counts dictionary of 7271 items\n",
      "2018-08-15 13:12:53,707 : INFO : sample=0.001 downsamples 45 most-common words\n",
      "2018-08-15 13:12:53,707 : INFO : downsampling leaves estimated 56172 word corpus (85.6% of prior 65610)\n",
      "2018-08-15 13:12:53,707 : INFO : estimated required memory for 4124 words and 100 dimensions: 5361200 bytes\n",
      "2018-08-15 13:12:53,722 : INFO : resetting layer weights\n",
      "2018-08-15 13:12:53,769 : INFO : training model with 3 workers on 4124 vocabulary and 100 features, using sg=0 hs=0 sample=0.001 negative=5 window=5\n",
      "2018-08-15 13:12:53,832 : INFO : worker thread finished; awaiting finish of 2 more threads\n",
      "2018-08-15 13:12:53,847 : INFO : worker thread finished; awaiting finish of 1 more threads\n",
      "2018-08-15 13:12:53,847 : INFO : worker thread finished; awaiting finish of 0 more threads\n",
      "2018-08-15 13:12:53,847 : INFO : EPOCH - 1 : training on 68757 raw words (56068 effective words) took 0.1s, 896237 effective words/s\n",
      "2018-08-15 13:12:53,910 : INFO : worker thread finished; awaiting finish of 2 more threads\n",
      "2018-08-15 13:12:53,910 : INFO : worker thread finished; awaiting finish of 1 more threads\n",
      "2018-08-15 13:12:53,925 : INFO : worker thread finished; awaiting finish of 0 more threads\n",
      "2018-08-15 13:12:53,925 : INFO : EPOCH - 2 : training on 68757 raw words (56151 effective words) took 0.1s, 856559 effective words/s\n",
      "2018-08-15 13:12:53,972 : INFO : worker thread finished; awaiting finish of 2 more threads\n",
      "2018-08-15 13:12:53,988 : INFO : worker thread finished; awaiting finish of 1 more threads\n",
      "2018-08-15 13:12:53,988 : INFO : worker thread finished; awaiting finish of 0 more threads\n",
      "2018-08-15 13:12:53,988 : INFO : EPOCH - 3 : training on 68757 raw words (56175 effective words) took 0.1s, 882864 effective words/s\n",
      "2018-08-15 13:12:54,050 : INFO : worker thread finished; awaiting finish of 2 more threads\n",
      "2018-08-15 13:12:54,050 : INFO : worker thread finished; awaiting finish of 1 more threads\n",
      "2018-08-15 13:12:54,066 : INFO : worker thread finished; awaiting finish of 0 more threads\n",
      "2018-08-15 13:12:54,066 : INFO : EPOCH - 4 : training on 68757 raw words (56169 effective words) took 0.1s, 891799 effective words/s\n",
      "2018-08-15 13:12:54,128 : INFO : worker thread finished; awaiting finish of 2 more threads\n",
      "2018-08-15 13:12:54,128 : INFO : worker thread finished; awaiting finish of 1 more threads\n",
      "2018-08-15 13:12:54,144 : INFO : worker thread finished; awaiting finish of 0 more threads\n",
      "2018-08-15 13:12:54,144 : INFO : EPOCH - 5 : training on 68757 raw words (56125 effective words) took 0.1s, 877705 effective words/s\n",
      "2018-08-15 13:12:54,144 : INFO : training on a 343785 raw words (280688 effective words) took 0.4s, 765529 effective words/s\n",
      "2018-08-15 13:12:54,144 : WARNING : Effective 'alpha' higher than previous training cycles\n",
      "2018-08-15 13:12:54,144 : INFO : training model with 3 workers on 4124 vocabulary and 100 features, using sg=0 hs=0 sample=0.001 negative=5 window=5\n",
      "2018-08-15 13:12:54,206 : INFO : worker thread finished; awaiting finish of 2 more threads\n",
      "2018-08-15 13:12:54,222 : INFO : worker thread finished; awaiting finish of 1 more threads\n",
      "2018-08-15 13:12:54,222 : INFO : worker thread finished; awaiting finish of 0 more threads\n",
      "2018-08-15 13:12:54,238 : INFO : EPOCH - 1 : training on 68757 raw words (56218 effective words) took 0.1s, 788008 effective words/s\n",
      "2018-08-15 13:12:54,285 : INFO : worker thread finished; awaiting finish of 2 more threads\n",
      "2018-08-15 13:12:54,300 : INFO : worker thread finished; awaiting finish of 1 more threads\n",
      "2018-08-15 13:12:54,300 : INFO : worker thread finished; awaiting finish of 0 more threads\n",
      "2018-08-15 13:12:54,316 : INFO : EPOCH - 2 : training on 68757 raw words (56240 effective words) took 0.1s, 858319 effective words/s\n",
      "2018-08-15 13:12:54,378 : INFO : worker thread finished; awaiting finish of 2 more threads\n",
      "2018-08-15 13:12:54,384 : INFO : worker thread finished; awaiting finish of 1 more threads\n",
      "2018-08-15 13:12:54,391 : INFO : worker thread finished; awaiting finish of 0 more threads\n",
      "2018-08-15 13:12:54,392 : INFO : EPOCH - 3 : training on 68757 raw words (56103 effective words) took 0.1s, 842534 effective words/s\n",
      "2018-08-15 13:12:54,442 : INFO : worker thread finished; awaiting finish of 2 more threads\n",
      "2018-08-15 13:12:54,442 : INFO : worker thread finished; awaiting finish of 1 more threads\n",
      "2018-08-15 13:12:54,458 : INFO : worker thread finished; awaiting finish of 0 more threads\n",
      "2018-08-15 13:12:54,458 : INFO : EPOCH - 4 : training on 68757 raw words (56190 effective words) took 0.1s, 861359 effective words/s\n",
      "2018-08-15 13:12:54,522 : INFO : worker thread finished; awaiting finish of 2 more threads\n",
      "2018-08-15 13:12:54,522 : INFO : worker thread finished; awaiting finish of 1 more threads\n",
      "2018-08-15 13:12:54,538 : INFO : worker thread finished; awaiting finish of 0 more threads\n",
      "2018-08-15 13:12:54,538 : INFO : EPOCH - 5 : training on 68757 raw words (56154 effective words) took 0.1s, 825802 effective words/s\n",
      "2018-08-15 13:12:54,600 : INFO : worker thread finished; awaiting finish of 2 more threads\n",
      "2018-08-15 13:12:54,600 : INFO : worker thread finished; awaiting finish of 1 more threads\n",
      "2018-08-15 13:12:54,600 : INFO : worker thread finished; awaiting finish of 0 more threads\n",
      "2018-08-15 13:12:54,616 : INFO : EPOCH - 6 : training on 68757 raw words (56218 effective words) took 0.1s, 875677 effective words/s\n",
      "2018-08-15 13:12:54,663 : INFO : worker thread finished; awaiting finish of 2 more threads\n",
      "2018-08-15 13:12:54,678 : INFO : worker thread finished; awaiting finish of 1 more threads\n",
      "2018-08-15 13:12:54,678 : INFO : worker thread finished; awaiting finish of 0 more threads\n",
      "2018-08-15 13:12:54,678 : INFO : EPOCH - 7 : training on 68757 raw words (56108 effective words) took 0.1s, 953484 effective words/s\n",
      "2018-08-15 13:12:54,725 : INFO : worker thread finished; awaiting finish of 2 more threads\n",
      "2018-08-15 13:12:54,741 : INFO : worker thread finished; awaiting finish of 1 more threads\n",
      "2018-08-15 13:12:54,741 : INFO : worker thread finished; awaiting finish of 0 more threads\n",
      "2018-08-15 13:12:54,741 : INFO : EPOCH - 8 : training on 68757 raw words (56166 effective words) took 0.1s, 952791 effective words/s\n",
      "2018-08-15 13:12:54,819 : INFO : worker thread finished; awaiting finish of 2 more threads\n",
      "2018-08-15 13:12:54,832 : INFO : worker thread finished; awaiting finish of 1 more threads\n",
      "2018-08-15 13:12:54,835 : INFO : worker thread finished; awaiting finish of 0 more threads\n",
      "2018-08-15 13:12:54,840 : INFO : EPOCH - 9 : training on 68757 raw words (56140 effective words) took 0.1s, 733244 effective words/s\n",
      "2018-08-15 13:12:54,909 : INFO : worker thread finished; awaiting finish of 2 more threads\n",
      "2018-08-15 13:12:54,909 : INFO : worker thread finished; awaiting finish of 1 more threads\n",
      "2018-08-15 13:12:54,925 : INFO : worker thread finished; awaiting finish of 0 more threads\n",
      "2018-08-15 13:12:54,925 : INFO : EPOCH - 10 : training on 68757 raw words (56220 effective words) took 0.1s, 708198 effective words/s\n",
      "2018-08-15 13:12:54,941 : INFO : training on a 687570 raw words (561757 effective words) took 0.8s, 714217 effective words/s\n"
     ]
    },
    {
     "data": {
      "text/plain": [
       "(561757, 687570)"
      ]
     },
     "execution_count": 5,
     "metadata": {},
     "output_type": "execute_result"
    }
   ],
   "source": [
    "model = gensim.models.Word2Vec(documents, size=100, window=5, min_count=2, workers=3)\n",
    "model.train(documents, total_examples=len(documents), epochs=10)"
   ]
  },
  {
   "cell_type": "code",
   "execution_count": 6,
   "metadata": {},
   "outputs": [
    {
     "name": "stderr",
     "output_type": "stream",
     "text": [
      "2018-08-15 13:12:54,972 : INFO : precomputing L2-norms of word weight vectors\n"
     ]
    },
    {
     "data": {
      "text/plain": [
       "[('titik', 0.9140135049819946),\n",
       " ('bojonggede', 0.9024227261543274),\n",
       " ('kerusakan', 0.901628315448761),\n",
       " ('duren', 0.8944565057754517),\n",
       " ('pabuaran', 0.8916382193565369),\n",
       " ('terparah', 0.8759018182754517),\n",
       " ('sakong', 0.8746216893196106),\n",
       " ('beberapa', 0.8739131093025208),\n",
       " ('lolo', 0.8731657266616821),\n",
       " ('pitu', 0.8707011342048645)]"
      ]
     },
     "execution_count": 6,
     "metadata": {},
     "output_type": "execute_result"
    }
   ],
   "source": [
    "w1 = \"jalan\"\n",
    "model.wv.most_similar (positive=w1)"
   ]
  },
  {
   "cell_type": "code",
   "execution_count": 7,
   "metadata": {},
   "outputs": [
    {
     "data": {
      "text/plain": [
       "[('widodo', 0.9534708261489868),\n",
       " ('presiden', 0.9462409615516663),\n",
       " ('joko', 0.9309929609298706),\n",
       " ('pemerintahan', 0.9294124841690063),\n",
       " ('susilo', 0.9179545044898987),\n",
       " ('dijenguk', 0.9095384478569031)]"
      ]
     },
     "execution_count": 7,
     "metadata": {},
     "output_type": "execute_result"
    }
   ],
   "source": [
    "w1 = [\"jokowi\"]\n",
    "model.wv.most_similar (positive=w1,topn=6)"
   ]
  },
  {
   "cell_type": "code",
   "execution_count": null,
   "metadata": {
    "collapsed": true
   },
   "outputs": [],
   "source": []
  }
 ],
 "metadata": {
  "kernelspec": {
   "display_name": "Python 3",
   "language": "python",
   "name": "python3"
  },
  "language_info": {
   "codemirror_mode": {
    "name": "ipython",
    "version": 3
   },
   "file_extension": ".py",
   "mimetype": "text/x-python",
   "name": "python",
   "nbconvert_exporter": "python",
   "pygments_lexer": "ipython3",
   "version": "3.6.3"
  }
 },
 "nbformat": 4,
 "nbformat_minor": 2
}
