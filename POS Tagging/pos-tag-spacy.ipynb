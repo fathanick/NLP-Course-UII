{
 "nbformat": 4,
 "nbformat_minor": 2,
 "metadata": {
  "language_info": {
   "name": "python",
   "codemirror_mode": {
    "name": "ipython",
    "version": 3
   },
   "version": "3.7.4-final"
  },
  "orig_nbformat": 2,
  "file_extension": ".py",
  "mimetype": "text/x-python",
  "name": "python",
  "npconvert_exporter": "python",
  "pygments_lexer": "ipython3",
  "version": 3,
  "kernelspec": {
   "name": "python37464bitanaconda3virtualenvfc801a8c42d14f0d884d7f22cd4e486a",
   "display_name": "Python 3.7.4 64-bit ('anaconda3': virtualenv)"
  }
 },
 "cells": [
  {
   "cell_type": "code",
   "execution_count": 7,
   "metadata": {},
   "outputs": [
    {
     "output_type": "stream",
     "name": "stdout",
     "text": "Requirement already satisfied: spacy in /Users/bsi-00/opt/anaconda3/lib/python3.7/site-packages (2.2.4)\nRequirement already satisfied: tqdm<5.0.0,>=4.38.0 in /Users/bsi-00/opt/anaconda3/lib/python3.7/site-packages (from spacy) (4.45.0)\nRequirement already satisfied: cymem<2.1.0,>=2.0.2 in /Users/bsi-00/opt/anaconda3/lib/python3.7/site-packages (from spacy) (2.0.3)\nRequirement already satisfied: preshed<3.1.0,>=3.0.2 in /Users/bsi-00/opt/anaconda3/lib/python3.7/site-packages (from spacy) (3.0.2)\nRequirement already satisfied: catalogue<1.1.0,>=0.0.7 in /Users/bsi-00/opt/anaconda3/lib/python3.7/site-packages (from spacy) (1.0.0)\nRequirement already satisfied: murmurhash<1.1.0,>=0.28.0 in /Users/bsi-00/opt/anaconda3/lib/python3.7/site-packages (from spacy) (1.0.2)\nRequirement already satisfied: thinc==7.4.0 in /Users/bsi-00/opt/anaconda3/lib/python3.7/site-packages (from spacy) (7.4.0)\nRequirement already satisfied: wasabi<1.1.0,>=0.4.0 in /Users/bsi-00/opt/anaconda3/lib/python3.7/site-packages (from spacy) (0.6.0)\nRequirement already satisfied: srsly<1.1.0,>=1.0.2 in /Users/bsi-00/opt/anaconda3/lib/python3.7/site-packages (from spacy) (1.0.2)\nRequirement already satisfied: setuptools in /Users/bsi-00/opt/anaconda3/lib/python3.7/site-packages (from spacy) (41.4.0)\nRequirement already satisfied: blis<0.5.0,>=0.4.0 in /Users/bsi-00/opt/anaconda3/lib/python3.7/site-packages (from spacy) (0.4.1)\nRequirement already satisfied: numpy>=1.15.0 in /Users/bsi-00/opt/anaconda3/lib/python3.7/site-packages (from spacy) (1.17.2)\nRequirement already satisfied: requests<3.0.0,>=2.13.0 in /Users/bsi-00/opt/anaconda3/lib/python3.7/site-packages (from spacy) (2.22.0)\nRequirement already satisfied: plac<1.2.0,>=0.9.6 in /Users/bsi-00/opt/anaconda3/lib/python3.7/site-packages (from spacy) (1.1.3)\nRequirement already satisfied: importlib-metadata>=0.20; python_version < \"3.8\" in /Users/bsi-00/opt/anaconda3/lib/python3.7/site-packages (from catalogue<1.1.0,>=0.0.7->spacy) (0.23)\nRequirement already satisfied: chardet<3.1.0,>=3.0.2 in /Users/bsi-00/opt/anaconda3/lib/python3.7/site-packages (from requests<3.0.0,>=2.13.0->spacy) (3.0.4)\nRequirement already satisfied: urllib3!=1.25.0,!=1.25.1,<1.26,>=1.21.1 in /Users/bsi-00/opt/anaconda3/lib/python3.7/site-packages (from requests<3.0.0,>=2.13.0->spacy) (1.24.2)\nRequirement already satisfied: certifi>=2017.4.17 in /Users/bsi-00/opt/anaconda3/lib/python3.7/site-packages (from requests<3.0.0,>=2.13.0->spacy) (2019.9.11)\nRequirement already satisfied: idna<2.9,>=2.5 in /Users/bsi-00/opt/anaconda3/lib/python3.7/site-packages (from requests<3.0.0,>=2.13.0->spacy) (2.8)\nRequirement already satisfied: zipp>=0.5 in /Users/bsi-00/opt/anaconda3/lib/python3.7/site-packages (from importlib-metadata>=0.20; python_version < \"3.8\"->catalogue<1.1.0,>=0.0.7->spacy) (0.6.0)\nRequirement already satisfied: more-itertools in /Users/bsi-00/opt/anaconda3/lib/python3.7/site-packages (from zipp>=0.5->importlib-metadata>=0.20; python_version < \"3.8\"->catalogue<1.1.0,>=0.0.7->spacy) (7.2.0)\n"
    }
   ],
   "source": [
    "!pip install spacy"
   ]
  },
  {
   "cell_type": "code",
   "execution_count": 8,
   "metadata": {},
   "outputs": [
    {
     "output_type": "stream",
     "name": "stdout",
     "text": "Requirement already satisfied: en_core_web_sm==2.2.5 from https://github.com/explosion/spacy-models/releases/download/en_core_web_sm-2.2.5/en_core_web_sm-2.2.5.tar.gz#egg=en_core_web_sm==2.2.5 in /Users/bsi-00/opt/anaconda3/lib/python3.7/site-packages (2.2.5)\nRequirement already satisfied: spacy>=2.2.2 in /Users/bsi-00/opt/anaconda3/lib/python3.7/site-packages (from en_core_web_sm==2.2.5) (2.2.4)\nRequirement already satisfied: requests<3.0.0,>=2.13.0 in /Users/bsi-00/opt/anaconda3/lib/python3.7/site-packages (from spacy>=2.2.2->en_core_web_sm==2.2.5) (2.22.0)\nRequirement already satisfied: murmurhash<1.1.0,>=0.28.0 in /Users/bsi-00/opt/anaconda3/lib/python3.7/site-packages (from spacy>=2.2.2->en_core_web_sm==2.2.5) (1.0.2)\nRequirement already satisfied: thinc==7.4.0 in /Users/bsi-00/opt/anaconda3/lib/python3.7/site-packages (from spacy>=2.2.2->en_core_web_sm==2.2.5) (7.4.0)\nRequirement already satisfied: numpy>=1.15.0 in /Users/bsi-00/opt/anaconda3/lib/python3.7/site-packages (from spacy>=2.2.2->en_core_web_sm==2.2.5) (1.17.2)\nRequirement already satisfied: preshed<3.1.0,>=3.0.2 in /Users/bsi-00/opt/anaconda3/lib/python3.7/site-packages (from spacy>=2.2.2->en_core_web_sm==2.2.5) (3.0.2)\nRequirement already satisfied: tqdm<5.0.0,>=4.38.0 in /Users/bsi-00/opt/anaconda3/lib/python3.7/site-packages (from spacy>=2.2.2->en_core_web_sm==2.2.5) (4.45.0)\nRequirement already satisfied: wasabi<1.1.0,>=0.4.0 in /Users/bsi-00/opt/anaconda3/lib/python3.7/site-packages (from spacy>=2.2.2->en_core_web_sm==2.2.5) (0.6.0)\nRequirement already satisfied: cymem<2.1.0,>=2.0.2 in /Users/bsi-00/opt/anaconda3/lib/python3.7/site-packages (from spacy>=2.2.2->en_core_web_sm==2.2.5) (2.0.3)\nRequirement already satisfied: srsly<1.1.0,>=1.0.2 in /Users/bsi-00/opt/anaconda3/lib/python3.7/site-packages (from spacy>=2.2.2->en_core_web_sm==2.2.5) (1.0.2)\nRequirement already satisfied: plac<1.2.0,>=0.9.6 in /Users/bsi-00/opt/anaconda3/lib/python3.7/site-packages (from spacy>=2.2.2->en_core_web_sm==2.2.5) (1.1.3)\nRequirement already satisfied: blis<0.5.0,>=0.4.0 in /Users/bsi-00/opt/anaconda3/lib/python3.7/site-packages (from spacy>=2.2.2->en_core_web_sm==2.2.5) (0.4.1)\nRequirement already satisfied: catalogue<1.1.0,>=0.0.7 in /Users/bsi-00/opt/anaconda3/lib/python3.7/site-packages (from spacy>=2.2.2->en_core_web_sm==2.2.5) (1.0.0)\nRequirement already satisfied: setuptools in /Users/bsi-00/opt/anaconda3/lib/python3.7/site-packages (from spacy>=2.2.2->en_core_web_sm==2.2.5) (41.4.0)\nRequirement already satisfied: urllib3!=1.25.0,!=1.25.1,<1.26,>=1.21.1 in /Users/bsi-00/opt/anaconda3/lib/python3.7/site-packages (from requests<3.0.0,>=2.13.0->spacy>=2.2.2->en_core_web_sm==2.2.5) (1.24.2)\nRequirement already satisfied: idna<2.9,>=2.5 in /Users/bsi-00/opt/anaconda3/lib/python3.7/site-packages (from requests<3.0.0,>=2.13.0->spacy>=2.2.2->en_core_web_sm==2.2.5) (2.8)\nRequirement already satisfied: certifi>=2017.4.17 in /Users/bsi-00/opt/anaconda3/lib/python3.7/site-packages (from requests<3.0.0,>=2.13.0->spacy>=2.2.2->en_core_web_sm==2.2.5) (2019.9.11)\nRequirement already satisfied: chardet<3.1.0,>=3.0.2 in /Users/bsi-00/opt/anaconda3/lib/python3.7/site-packages (from requests<3.0.0,>=2.13.0->spacy>=2.2.2->en_core_web_sm==2.2.5) (3.0.4)\nRequirement already satisfied: importlib-metadata>=0.20; python_version < \"3.8\" in /Users/bsi-00/opt/anaconda3/lib/python3.7/site-packages (from catalogue<1.1.0,>=0.0.7->spacy>=2.2.2->en_core_web_sm==2.2.5) (0.23)\nRequirement already satisfied: zipp>=0.5 in /Users/bsi-00/opt/anaconda3/lib/python3.7/site-packages (from importlib-metadata>=0.20; python_version < \"3.8\"->catalogue<1.1.0,>=0.0.7->spacy>=2.2.2->en_core_web_sm==2.2.5) (0.6.0)\nRequirement already satisfied: more-itertools in /Users/bsi-00/opt/anaconda3/lib/python3.7/site-packages (from zipp>=0.5->importlib-metadata>=0.20; python_version < \"3.8\"->catalogue<1.1.0,>=0.0.7->spacy>=2.2.2->en_core_web_sm==2.2.5) (7.2.0)\n\u001b[38;5;2m✔ Download and installation successful\u001b[0m\nYou can now load the model via spacy.load('en_core_web_sm')\n\u001b[38;5;2m✔ Linking successful\u001b[0m\n/Users/bsi-00/opt/anaconda3/lib/python3.7/site-packages/en_core_web_sm -->\n/Users/bsi-00/opt/anaconda3/lib/python3.7/site-packages/spacy/data/en\nYou can now load the model via spacy.load('en')\n"
    }
   ],
   "source": [
    "!python -m spacy download en"
   ]
  },
  {
   "cell_type": "code",
   "execution_count": 9,
   "metadata": {},
   "outputs": [],
   "source": [
    "import spacy"
   ]
  },
  {
   "cell_type": "code",
   "execution_count": 10,
   "metadata": {},
   "outputs": [],
   "source": [
    "nlp = spacy.load('en')"
   ]
  },
  {
   "cell_type": "code",
   "execution_count": 13,
   "metadata": {},
   "outputs": [],
   "source": [
    "s = nlp(\"I am learning Python for Natural Language Processing and Text Mining.\")"
   ]
  },
  {
   "cell_type": "code",
   "execution_count": 15,
   "metadata": {},
   "outputs": [
    {
     "output_type": "stream",
     "name": "stdout",
     "text": "I PRON PRP\nam AUX VBP\nlearning VERB VBG\nPython PROPN NNP\nfor ADP IN\nNatural PROPN NNP\nLanguage PROPN NNP\nProcessing PROPN NNP\nand CCONJ CC\nText PROPN NNP\nMining PROPN NNP\n. PUNCT .\n"
    }
   ],
   "source": [
    "#POS Tagging\n",
    "for token in s:\n",
    "    print(token.text, token.pos_, token.tag_)"
   ]
  },
  {
   "cell_type": "code",
   "execution_count": 16,
   "metadata": {},
   "outputs": [
    {
     "output_type": "stream",
     "name": "stdout",
     "text": "I NP I\nPython NP Python\nNatural Language Processing NP Processing\nText Mining NP Mining\n"
    }
   ],
   "source": [
    "#Chunking\n",
    "\n",
    "for chunk in s.noun_chunks:\n",
    "    print(chunk.text, chunk.label_, chunk.root.text)"
   ]
  },
  {
   "cell_type": "code",
   "execution_count": 17,
   "metadata": {},
   "outputs": [
    {
     "output_type": "stream",
     "name": "stdout",
     "text": "I/PRP <-- nsubj <-- learning/VBG\nam/VBP <-- aux <-- learning/VBG\nlearning/VBG <-- ROOT <-- learning/VBG\nPython/NNP <-- dobj <-- learning/VBG\nfor/IN <-- prep <-- Python/NNP\nNatural/NNP <-- nmod <-- Language/NNP\nLanguage/NNP <-- compound <-- Processing/NNP\nProcessing/NNP <-- pobj <-- for/IN\nand/CC <-- cc <-- Processing/NNP\nText/NNP <-- compound <-- Mining/NNP\nMining/NNP <-- conj <-- Processing/NNP\n./. <-- punct <-- learning/VBG\n"
    }
   ],
   "source": [
    "#Dependency Parsing\n",
    "\n",
    "for token in s:\n",
    "    print(\"{0}/{1} <-- {2} <-- {3}/{4}\".format(\n",
    "        token.text, token.tag_, token.dep_, token.head.text, token.head.tag_\n",
    "    ))"
   ]
  },
  {
   "cell_type": "code",
   "execution_count": 20,
   "metadata": {},
   "outputs": [
    {
     "output_type": "display_data",
     "data": {
      "text/plain": "<IPython.core.display.HTML object>",
      "text/html": "<span class=\"tex2jax_ignore\"><svg xmlns=\"http://www.w3.org/2000/svg\" xmlns:xlink=\"http://www.w3.org/1999/xlink\" xml:lang=\"en\" id=\"47947a13f3804877bd4412041ce0c104-0\" class=\"displacy\" width=\"985\" height=\"264.5\" direction=\"ltr\" style=\"max-width: none; height: 264.5px; color: #000000; background: #ffffff; font-family: Arial; direction: ltr\">\n<text class=\"displacy-token\" fill=\"currentColor\" text-anchor=\"middle\" y=\"174.5\">\n    <tspan class=\"displacy-word\" fill=\"currentColor\" x=\"50\">I</tspan>\n    <tspan class=\"displacy-tag\" dy=\"2em\" fill=\"currentColor\" x=\"50\">PRON</tspan>\n</text>\n\n<text class=\"displacy-token\" fill=\"currentColor\" text-anchor=\"middle\" y=\"174.5\">\n    <tspan class=\"displacy-word\" fill=\"currentColor\" x=\"135\">am</tspan>\n    <tspan class=\"displacy-tag\" dy=\"2em\" fill=\"currentColor\" x=\"135\">AUX</tspan>\n</text>\n\n<text class=\"displacy-token\" fill=\"currentColor\" text-anchor=\"middle\" y=\"174.5\">\n    <tspan class=\"displacy-word\" fill=\"currentColor\" x=\"220\">learning</tspan>\n    <tspan class=\"displacy-tag\" dy=\"2em\" fill=\"currentColor\" x=\"220\">VERB</tspan>\n</text>\n\n<text class=\"displacy-token\" fill=\"currentColor\" text-anchor=\"middle\" y=\"174.5\">\n    <tspan class=\"displacy-word\" fill=\"currentColor\" x=\"305\">Python</tspan>\n    <tspan class=\"displacy-tag\" dy=\"2em\" fill=\"currentColor\" x=\"305\">PROPN</tspan>\n</text>\n\n<text class=\"displacy-token\" fill=\"currentColor\" text-anchor=\"middle\" y=\"174.5\">\n    <tspan class=\"displacy-word\" fill=\"currentColor\" x=\"390\">for</tspan>\n    <tspan class=\"displacy-tag\" dy=\"2em\" fill=\"currentColor\" x=\"390\">ADP</tspan>\n</text>\n\n<text class=\"displacy-token\" fill=\"currentColor\" text-anchor=\"middle\" y=\"174.5\">\n    <tspan class=\"displacy-word\" fill=\"currentColor\" x=\"475\">Natural</tspan>\n    <tspan class=\"displacy-tag\" dy=\"2em\" fill=\"currentColor\" x=\"475\">PROPN</tspan>\n</text>\n\n<text class=\"displacy-token\" fill=\"currentColor\" text-anchor=\"middle\" y=\"174.5\">\n    <tspan class=\"displacy-word\" fill=\"currentColor\" x=\"560\">Language</tspan>\n    <tspan class=\"displacy-tag\" dy=\"2em\" fill=\"currentColor\" x=\"560\">PROPN</tspan>\n</text>\n\n<text class=\"displacy-token\" fill=\"currentColor\" text-anchor=\"middle\" y=\"174.5\">\n    <tspan class=\"displacy-word\" fill=\"currentColor\" x=\"645\">Processing</tspan>\n    <tspan class=\"displacy-tag\" dy=\"2em\" fill=\"currentColor\" x=\"645\">PROPN</tspan>\n</text>\n\n<text class=\"displacy-token\" fill=\"currentColor\" text-anchor=\"middle\" y=\"174.5\">\n    <tspan class=\"displacy-word\" fill=\"currentColor\" x=\"730\">and</tspan>\n    <tspan class=\"displacy-tag\" dy=\"2em\" fill=\"currentColor\" x=\"730\">CCONJ</tspan>\n</text>\n\n<text class=\"displacy-token\" fill=\"currentColor\" text-anchor=\"middle\" y=\"174.5\">\n    <tspan class=\"displacy-word\" fill=\"currentColor\" x=\"815\">Text</tspan>\n    <tspan class=\"displacy-tag\" dy=\"2em\" fill=\"currentColor\" x=\"815\">PROPN</tspan>\n</text>\n\n<text class=\"displacy-token\" fill=\"currentColor\" text-anchor=\"middle\" y=\"174.5\">\n    <tspan class=\"displacy-word\" fill=\"currentColor\" x=\"900\">Mining.</tspan>\n    <tspan class=\"displacy-tag\" dy=\"2em\" fill=\"currentColor\" x=\"900\">PROPN</tspan>\n</text>\n\n<g class=\"displacy-arrow\">\n    <path class=\"displacy-arc\" id=\"arrow-47947a13f3804877bd4412041ce0c104-0-0\" stroke-width=\"2px\" d=\"M70,129.5 C70,44.5 215.0,44.5 215.0,129.5\" fill=\"none\" stroke=\"currentColor\"/>\n    <text dy=\"1.25em\" style=\"font-size: 0.8em; letter-spacing: 1px\">\n        <textPath xlink:href=\"#arrow-47947a13f3804877bd4412041ce0c104-0-0\" class=\"displacy-label\" startOffset=\"50%\" side=\"left\" fill=\"currentColor\" text-anchor=\"middle\">nsubj</textPath>\n    </text>\n    <path class=\"displacy-arrowhead\" d=\"M70,131.5 L62,119.5 78,119.5\" fill=\"currentColor\"/>\n</g>\n\n<g class=\"displacy-arrow\">\n    <path class=\"displacy-arc\" id=\"arrow-47947a13f3804877bd4412041ce0c104-0-1\" stroke-width=\"2px\" d=\"M155,129.5 C155,87.0 210.0,87.0 210.0,129.5\" fill=\"none\" stroke=\"currentColor\"/>\n    <text dy=\"1.25em\" style=\"font-size: 0.8em; letter-spacing: 1px\">\n        <textPath xlink:href=\"#arrow-47947a13f3804877bd4412041ce0c104-0-1\" class=\"displacy-label\" startOffset=\"50%\" side=\"left\" fill=\"currentColor\" text-anchor=\"middle\">aux</textPath>\n    </text>\n    <path class=\"displacy-arrowhead\" d=\"M155,131.5 L147,119.5 163,119.5\" fill=\"currentColor\"/>\n</g>\n\n<g class=\"displacy-arrow\">\n    <path class=\"displacy-arc\" id=\"arrow-47947a13f3804877bd4412041ce0c104-0-2\" stroke-width=\"2px\" d=\"M240,129.5 C240,87.0 295.0,87.0 295.0,129.5\" fill=\"none\" stroke=\"currentColor\"/>\n    <text dy=\"1.25em\" style=\"font-size: 0.8em; letter-spacing: 1px\">\n        <textPath xlink:href=\"#arrow-47947a13f3804877bd4412041ce0c104-0-2\" class=\"displacy-label\" startOffset=\"50%\" side=\"left\" fill=\"currentColor\" text-anchor=\"middle\">dobj</textPath>\n    </text>\n    <path class=\"displacy-arrowhead\" d=\"M295.0,131.5 L303.0,119.5 287.0,119.5\" fill=\"currentColor\"/>\n</g>\n\n<g class=\"displacy-arrow\">\n    <path class=\"displacy-arc\" id=\"arrow-47947a13f3804877bd4412041ce0c104-0-3\" stroke-width=\"2px\" d=\"M325,129.5 C325,87.0 380.0,87.0 380.0,129.5\" fill=\"none\" stroke=\"currentColor\"/>\n    <text dy=\"1.25em\" style=\"font-size: 0.8em; letter-spacing: 1px\">\n        <textPath xlink:href=\"#arrow-47947a13f3804877bd4412041ce0c104-0-3\" class=\"displacy-label\" startOffset=\"50%\" side=\"left\" fill=\"currentColor\" text-anchor=\"middle\">prep</textPath>\n    </text>\n    <path class=\"displacy-arrowhead\" d=\"M380.0,131.5 L388.0,119.5 372.0,119.5\" fill=\"currentColor\"/>\n</g>\n\n<g class=\"displacy-arrow\">\n    <path class=\"displacy-arc\" id=\"arrow-47947a13f3804877bd4412041ce0c104-0-4\" stroke-width=\"2px\" d=\"M495,129.5 C495,87.0 550.0,87.0 550.0,129.5\" fill=\"none\" stroke=\"currentColor\"/>\n    <text dy=\"1.25em\" style=\"font-size: 0.8em; letter-spacing: 1px\">\n        <textPath xlink:href=\"#arrow-47947a13f3804877bd4412041ce0c104-0-4\" class=\"displacy-label\" startOffset=\"50%\" side=\"left\" fill=\"currentColor\" text-anchor=\"middle\">nmod</textPath>\n    </text>\n    <path class=\"displacy-arrowhead\" d=\"M495,131.5 L487,119.5 503,119.5\" fill=\"currentColor\"/>\n</g>\n\n<g class=\"displacy-arrow\">\n    <path class=\"displacy-arc\" id=\"arrow-47947a13f3804877bd4412041ce0c104-0-5\" stroke-width=\"2px\" d=\"M580,129.5 C580,87.0 635.0,87.0 635.0,129.5\" fill=\"none\" stroke=\"currentColor\"/>\n    <text dy=\"1.25em\" style=\"font-size: 0.8em; letter-spacing: 1px\">\n        <textPath xlink:href=\"#arrow-47947a13f3804877bd4412041ce0c104-0-5\" class=\"displacy-label\" startOffset=\"50%\" side=\"left\" fill=\"currentColor\" text-anchor=\"middle\">compound</textPath>\n    </text>\n    <path class=\"displacy-arrowhead\" d=\"M580,131.5 L572,119.5 588,119.5\" fill=\"currentColor\"/>\n</g>\n\n<g class=\"displacy-arrow\">\n    <path class=\"displacy-arc\" id=\"arrow-47947a13f3804877bd4412041ce0c104-0-6\" stroke-width=\"2px\" d=\"M410,129.5 C410,2.0 645.0,2.0 645.0,129.5\" fill=\"none\" stroke=\"currentColor\"/>\n    <text dy=\"1.25em\" style=\"font-size: 0.8em; letter-spacing: 1px\">\n        <textPath xlink:href=\"#arrow-47947a13f3804877bd4412041ce0c104-0-6\" class=\"displacy-label\" startOffset=\"50%\" side=\"left\" fill=\"currentColor\" text-anchor=\"middle\">pobj</textPath>\n    </text>\n    <path class=\"displacy-arrowhead\" d=\"M645.0,131.5 L653.0,119.5 637.0,119.5\" fill=\"currentColor\"/>\n</g>\n\n<g class=\"displacy-arrow\">\n    <path class=\"displacy-arc\" id=\"arrow-47947a13f3804877bd4412041ce0c104-0-7\" stroke-width=\"2px\" d=\"M665,129.5 C665,87.0 720.0,87.0 720.0,129.5\" fill=\"none\" stroke=\"currentColor\"/>\n    <text dy=\"1.25em\" style=\"font-size: 0.8em; letter-spacing: 1px\">\n        <textPath xlink:href=\"#arrow-47947a13f3804877bd4412041ce0c104-0-7\" class=\"displacy-label\" startOffset=\"50%\" side=\"left\" fill=\"currentColor\" text-anchor=\"middle\">cc</textPath>\n    </text>\n    <path class=\"displacy-arrowhead\" d=\"M720.0,131.5 L728.0,119.5 712.0,119.5\" fill=\"currentColor\"/>\n</g>\n\n<g class=\"displacy-arrow\">\n    <path class=\"displacy-arc\" id=\"arrow-47947a13f3804877bd4412041ce0c104-0-8\" stroke-width=\"2px\" d=\"M835,129.5 C835,87.0 890.0,87.0 890.0,129.5\" fill=\"none\" stroke=\"currentColor\"/>\n    <text dy=\"1.25em\" style=\"font-size: 0.8em; letter-spacing: 1px\">\n        <textPath xlink:href=\"#arrow-47947a13f3804877bd4412041ce0c104-0-8\" class=\"displacy-label\" startOffset=\"50%\" side=\"left\" fill=\"currentColor\" text-anchor=\"middle\">compound</textPath>\n    </text>\n    <path class=\"displacy-arrowhead\" d=\"M835,131.5 L827,119.5 843,119.5\" fill=\"currentColor\"/>\n</g>\n\n<g class=\"displacy-arrow\">\n    <path class=\"displacy-arc\" id=\"arrow-47947a13f3804877bd4412041ce0c104-0-9\" stroke-width=\"2px\" d=\"M665,129.5 C665,2.0 900.0,2.0 900.0,129.5\" fill=\"none\" stroke=\"currentColor\"/>\n    <text dy=\"1.25em\" style=\"font-size: 0.8em; letter-spacing: 1px\">\n        <textPath xlink:href=\"#arrow-47947a13f3804877bd4412041ce0c104-0-9\" class=\"displacy-label\" startOffset=\"50%\" side=\"left\" fill=\"currentColor\" text-anchor=\"middle\">conj</textPath>\n    </text>\n    <path class=\"displacy-arrowhead\" d=\"M900.0,131.5 L908.0,119.5 892.0,119.5\" fill=\"currentColor\"/>\n</g>\n</svg></span>"
     },
     "metadata": {}
    }
   ],
   "source": [
    "#Dependecy Parsing Visualization\n",
    "\n",
    "from spacy import displacy\n",
    "\n",
    "displacy.render(s, style='dep', jupyter=True, options={'distance':85})"
   ]
  },
  {
   "cell_type": "code",
   "execution_count": null,
   "metadata": {},
   "outputs": [],
   "source": []
  }
 ]
}