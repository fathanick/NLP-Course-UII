{
 "nbformat": 4,
 "nbformat_minor": 2,
 "metadata": {
  "language_info": {
   "name": "python",
   "codemirror_mode": {
    "name": "ipython",
    "version": 3
   },
   "version": "3.7.4-final"
  },
  "orig_nbformat": 2,
  "file_extension": ".py",
  "mimetype": "text/x-python",
  "name": "python",
  "npconvert_exporter": "python",
  "pygments_lexer": "ipython3",
  "version": 3,
  "kernelspec": {
   "name": "python37464bitanaconda3virtualenvfc801a8c42d14f0d884d7f22cd4e486a",
   "display_name": "Python 3.7.4 64-bit ('anaconda3': virtualenv)"
  }
 },
 "cells": [
  {
   "cell_type": "code",
   "execution_count": 1,
   "metadata": {},
   "outputs": [
    {
     "output_type": "stream",
     "name": "stdout",
     "text": "Collecting Sastrawi\n  Downloading Sastrawi-1.0.1-py2.py3-none-any.whl (209 kB)\n\u001b[K     |████████████████████████████████| 209 kB 198 kB/s \n\u001b[?25hInstalling collected packages: Sastrawi\nSuccessfully installed Sastrawi-1.0.1\n"
    }
   ],
   "source": [
    "!pip install Sastrawi"
   ]
  },
  {
   "cell_type": "code",
   "execution_count": 2,
   "metadata": {},
   "outputs": [],
   "source": [
    "from Sastrawi.Stemmer.StemmerFactory import StemmerFactory"
   ]
  },
  {
   "cell_type": "code",
   "execution_count": 3,
   "metadata": {},
   "outputs": [],
   "source": [
    "factory = StemmerFactory()\n",
    "stemmer = factory.create_stemmer()"
   ]
  },
  {
   "cell_type": "code",
   "execution_count": 7,
   "metadata": {},
   "outputs": [
    {
     "output_type": "stream",
     "name": "stdout",
     "text": "saya ajar bahasa pemrograman python dengan contoh tutorial jangan sia sempat ini\n"
    }
   ],
   "source": [
    "sentence = \"Saya mempelajari bahasa pemrograman Python dengan mencontoh tutorial. Jangan menyia-nyiakan kesempatan ini.\"\n",
    "result = stemmer.stem(sentence)\n",
    "print(result)"
   ]
  }
 ]
}